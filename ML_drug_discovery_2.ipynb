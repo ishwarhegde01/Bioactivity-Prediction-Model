{
 "cells": [
  {
   "cell_type": "code",
   "execution_count": 186,
   "metadata": {
    "colab": {
     "base_uri": "https://localhost:8080/"
    },
    "executionInfo": {
     "elapsed": 6415,
     "status": "ok",
     "timestamp": 1731820437014,
     "user": {
      "displayName": "Shreya Hegde",
      "userId": "14227999082931260667"
     },
     "user_tz": -330
    },
    "id": "5ca1Kx1cLm8v",
    "outputId": "b30d80de-2983-466a-f134-c05f9444e42d"
   },
   "outputs": [
    {
     "name": "stdout",
     "output_type": "stream",
     "text": [
      "Requirement already satisfied: rdkit in /media/ish/Personal/Drug_Discovery_ML/ml_dd_env/lib/python3.12/site-packages (2024.3.6)\n",
      "Requirement already satisfied: numpy in /media/ish/Personal/Drug_Discovery_ML/ml_dd_env/lib/python3.12/site-packages (from rdkit) (1.26.4)\n",
      "Requirement already satisfied: Pillow in /media/ish/Personal/Drug_Discovery_ML/ml_dd_env/lib/python3.12/site-packages (from rdkit) (11.0.0)\n"
     ]
    }
   ],
   "source": [
    "! pip install rdkit"
   ]
  },
  {
   "cell_type": "code",
   "execution_count": 187,
   "metadata": {
    "executionInfo": {
     "elapsed": 663,
     "status": "ok",
     "timestamp": 1731820597845,
     "user": {
      "displayName": "Shreya Hegde",
      "userId": "14227999082931260667"
     },
     "user_tz": -330
    },
    "id": "e_z2ixfWQ9cg"
   },
   "outputs": [],
   "source": [
    "import pandas as pd"
   ]
  },
  {
   "cell_type": "code",
   "execution_count": 188,
   "metadata": {
    "executionInfo": {
     "elapsed": 433,
     "status": "ok",
     "timestamp": 1731820602917,
     "user": {
      "displayName": "Shreya Hegde",
      "userId": "14227999082931260667"
     },
     "user_tz": -330
    },
    "id": "ZmGJUzRCJPfm"
   },
   "outputs": [],
   "source": [
    "#load bioactivity data\n",
    "df = pd.read_csv('bioactivity_preprocessed_data.csv')"
   ]
  },
  {
   "cell_type": "markdown",
   "metadata": {
    "id": "BOReZbQUKj3i"
   },
   "source": [
    "calculate lipinski descriptors"
   ]
  },
  {
   "cell_type": "code",
   "execution_count": 189,
   "metadata": {
    "executionInfo": {
     "elapsed": 435,
     "status": "ok",
     "timestamp": 1731820607585,
     "user": {
      "displayName": "Shreya Hegde",
      "userId": "14227999082931260667"
     },
     "user_tz": -330
    },
    "id": "9YZ7d9ayKo0y"
   },
   "outputs": [],
   "source": [
    "#discriptor calculation\n",
    "import numpy as np\n",
    "from rdkit import Chem\n",
    "from rdkit.Chem import Descriptors, Lipinski"
   ]
  },
  {
   "cell_type": "code",
   "execution_count": 190,
   "metadata": {
    "executionInfo": {
     "elapsed": 452,
     "status": "ok",
     "timestamp": 1731820637948,
     "user": {
      "displayName": "Shreya Hegde",
      "userId": "14227999082931260667"
     },
     "user_tz": -330
    },
    "id": "B6KHMyxaEcyA"
   },
   "outputs": [],
   "source": [
    "#fixed lipnski function\n",
    "from rdkit import Chem\n",
    "from rdkit.Chem import Descriptors, Lipinski\n",
    "import numpy as np\n",
    "import pandas as pd\n",
    "\n",
    "def lipinski(smiles, verbose=False):\n",
    "    moldata = []\n",
    "    for elem in smiles:\n",
    "        if isinstance(elem, str):  # Ensure the input is a string\n",
    "            mol = Chem.MolFromSmiles(elem)\n",
    "            if mol is not None:  # Ensure the SMILES string is valid\n",
    "                moldata.append(mol)\n",
    "            elif verbose:\n",
    "                print(f\"Invalid SMILES string: {elem}\")\n",
    "        else:\n",
    "            if verbose:\n",
    "                print(f\"Skipping non-string value: {elem}\")\n",
    "\n",
    "    if not moldata:  # If no valid molecules, return an empty DataFrame\n",
    "        return pd.DataFrame(columns=[\"MW\", \"LogP\", \"NumHDonors\", \"NumHAcceptors\"])\n",
    "\n",
    "    baseData = []\n",
    "    for mol in moldata:\n",
    "        try:\n",
    "            desc_mol_wt = Descriptors.MolWt(mol)\n",
    "            desc_mol_logp = Descriptors.MolLogP(mol)\n",
    "            desc_mol_numHDonors = Lipinski.NumHDonors(mol)\n",
    "            desc_mol_numHAcceptors = Lipinski.NumHAcceptors(mol)\n",
    "            row = [desc_mol_wt, desc_mol_logp, desc_mol_numHDonors, desc_mol_numHAcceptors]\n",
    "            baseData.append(row)\n",
    "        except Exception as e:\n",
    "            if verbose:\n",
    "                print(f\"Error processing molecule: {e}\")\n",
    "\n",
    "    columnNames = [\"MW\", \"LogP\", \"NumHDonors\", \"NumHAcceptors\"]\n",
    "    descriptors = pd.DataFrame(data=baseData, columns=columnNames)\n",
    "\n",
    "    return descriptors\n"
   ]
  },
  {
   "cell_type": "code",
   "execution_count": 191,
   "metadata": {
    "executionInfo": {
     "elapsed": 842,
     "status": "ok",
     "timestamp": 1731820645853,
     "user": {
      "displayName": "Shreya Hegde",
      "userId": "14227999082931260667"
     },
     "user_tz": -330
    },
    "id": "RBQ6NpjDL9S3"
   },
   "outputs": [],
   "source": [
    "df_lipinski = lipinski(df['Smiles'])"
   ]
  },
  {
   "cell_type": "code",
   "execution_count": 192,
   "metadata": {
    "colab": {
     "base_uri": "https://localhost:8080/",
     "height": 444
    },
    "executionInfo": {
     "elapsed": 460,
     "status": "ok",
     "timestamp": 1731820647956,
     "user": {
      "displayName": "Shreya Hegde",
      "userId": "14227999082931260667"
     },
     "user_tz": -330
    },
    "id": "j8vK4rVkML6o",
    "outputId": "8eb0d7ce-208e-4181-f608-abf56bd244d9"
   },
   "outputs": [
    {
     "data": {
      "text/html": [
       "<div>\n",
       "<style scoped>\n",
       "    .dataframe tbody tr th:only-of-type {\n",
       "        vertical-align: middle;\n",
       "    }\n",
       "\n",
       "    .dataframe tbody tr th {\n",
       "        vertical-align: top;\n",
       "    }\n",
       "\n",
       "    .dataframe thead th {\n",
       "        text-align: right;\n",
       "    }\n",
       "</style>\n",
       "<table border=\"1\" class=\"dataframe\">\n",
       "  <thead>\n",
       "    <tr style=\"text-align: right;\">\n",
       "      <th></th>\n",
       "      <th>MW</th>\n",
       "      <th>LogP</th>\n",
       "      <th>NumHDonors</th>\n",
       "      <th>NumHAcceptors</th>\n",
       "    </tr>\n",
       "  </thead>\n",
       "  <tbody>\n",
       "    <tr>\n",
       "      <th>0</th>\n",
       "      <td>626.713</td>\n",
       "      <td>6.19456</td>\n",
       "      <td>2</td>\n",
       "      <td>7</td>\n",
       "    </tr>\n",
       "    <tr>\n",
       "      <th>1</th>\n",
       "      <td>567.716</td>\n",
       "      <td>1.49827</td>\n",
       "      <td>3</td>\n",
       "      <td>7</td>\n",
       "    </tr>\n",
       "    <tr>\n",
       "      <th>2</th>\n",
       "      <td>665.820</td>\n",
       "      <td>3.44167</td>\n",
       "      <td>3</td>\n",
       "      <td>7</td>\n",
       "    </tr>\n",
       "    <tr>\n",
       "      <th>3</th>\n",
       "      <td>589.722</td>\n",
       "      <td>1.87127</td>\n",
       "      <td>3</td>\n",
       "      <td>7</td>\n",
       "    </tr>\n",
       "    <tr>\n",
       "      <th>4</th>\n",
       "      <td>564.767</td>\n",
       "      <td>5.94400</td>\n",
       "      <td>2</td>\n",
       "      <td>5</td>\n",
       "    </tr>\n",
       "    <tr>\n",
       "      <th>...</th>\n",
       "      <td>...</td>\n",
       "      <td>...</td>\n",
       "      <td>...</td>\n",
       "      <td>...</td>\n",
       "    </tr>\n",
       "    <tr>\n",
       "      <th>585</th>\n",
       "      <td>757.951</td>\n",
       "      <td>3.89510</td>\n",
       "      <td>3</td>\n",
       "      <td>9</td>\n",
       "    </tr>\n",
       "    <tr>\n",
       "      <th>586</th>\n",
       "      <td>347.378</td>\n",
       "      <td>2.64844</td>\n",
       "      <td>5</td>\n",
       "      <td>4</td>\n",
       "    </tr>\n",
       "    <tr>\n",
       "      <th>587</th>\n",
       "      <td>579.727</td>\n",
       "      <td>1.64077</td>\n",
       "      <td>3</td>\n",
       "      <td>7</td>\n",
       "    </tr>\n",
       "    <tr>\n",
       "      <th>588</th>\n",
       "      <td>508.623</td>\n",
       "      <td>1.51020</td>\n",
       "      <td>2</td>\n",
       "      <td>8</td>\n",
       "    </tr>\n",
       "    <tr>\n",
       "      <th>589</th>\n",
       "      <td>417.509</td>\n",
       "      <td>4.99449</td>\n",
       "      <td>2</td>\n",
       "      <td>5</td>\n",
       "    </tr>\n",
       "  </tbody>\n",
       "</table>\n",
       "<p>590 rows × 4 columns</p>\n",
       "</div>"
      ],
      "text/plain": [
       "          MW     LogP  NumHDonors  NumHAcceptors\n",
       "0    626.713  6.19456           2              7\n",
       "1    567.716  1.49827           3              7\n",
       "2    665.820  3.44167           3              7\n",
       "3    589.722  1.87127           3              7\n",
       "4    564.767  5.94400           2              5\n",
       "..       ...      ...         ...            ...\n",
       "585  757.951  3.89510           3              9\n",
       "586  347.378  2.64844           5              4\n",
       "587  579.727  1.64077           3              7\n",
       "588  508.623  1.51020           2              8\n",
       "589  417.509  4.99449           2              5\n",
       "\n",
       "[590 rows x 4 columns]"
      ]
     },
     "execution_count": 192,
     "metadata": {},
     "output_type": "execute_result"
    }
   ],
   "source": [
    "df_lipinski"
   ]
  },
  {
   "cell_type": "code",
   "execution_count": 193,
   "metadata": {
    "colab": {
     "base_uri": "https://localhost:8080/",
     "height": 444
    },
    "executionInfo": {
     "elapsed": 458,
     "status": "ok",
     "timestamp": 1731820651844,
     "user": {
      "displayName": "Shreya Hegde",
      "userId": "14227999082931260667"
     },
     "user_tz": -330
    },
    "id": "h0Umq5XZMUoe",
    "outputId": "630f4305-79e6-424c-db65-5572254341b4"
   },
   "outputs": [
    {
     "data": {
      "text/html": [
       "<div>\n",
       "<style scoped>\n",
       "    .dataframe tbody tr th:only-of-type {\n",
       "        vertical-align: middle;\n",
       "    }\n",
       "\n",
       "    .dataframe tbody tr th {\n",
       "        vertical-align: top;\n",
       "    }\n",
       "\n",
       "    .dataframe thead th {\n",
       "        text-align: right;\n",
       "    }\n",
       "</style>\n",
       "<table border=\"1\" class=\"dataframe\">\n",
       "  <thead>\n",
       "    <tr style=\"text-align: right;\">\n",
       "      <th></th>\n",
       "      <th>Molecule ChEMBL ID</th>\n",
       "      <th>Smiles</th>\n",
       "      <th>Standard Value</th>\n",
       "      <th>bioactivity_class</th>\n",
       "    </tr>\n",
       "  </thead>\n",
       "  <tbody>\n",
       "    <tr>\n",
       "      <th>0</th>\n",
       "      <td>CHEMBL134816</td>\n",
       "      <td>CC(C)(C(=O)OC(=O)C(C)(C)C(NC(=O)c1ccc(C#N)cc1)...</td>\n",
       "      <td>1800.0</td>\n",
       "      <td>intermediate</td>\n",
       "    </tr>\n",
       "    <tr>\n",
       "      <th>1</th>\n",
       "      <td>CHEMBL402843</td>\n",
       "      <td>C[C@H]1C(=O)N(CCCc2ccccc2)CC(=O)N1CC(=O)N[C@@H...</td>\n",
       "      <td>24000.0</td>\n",
       "      <td>inactive</td>\n",
       "    </tr>\n",
       "    <tr>\n",
       "      <th>2</th>\n",
       "      <td>CHEMBL79245</td>\n",
       "      <td>N=C(N)N1CCCC(C[C@H](NC(=O)CN2C(=O)CN(Cc3ccccc3...</td>\n",
       "      <td>11100.0</td>\n",
       "      <td>inactive</td>\n",
       "    </tr>\n",
       "    <tr>\n",
       "      <th>3</th>\n",
       "      <td>CHEMBL84127</td>\n",
       "      <td>CN1CC(=O)N(CC(=O)N[C@@H](CC2CCCN(C(=N)N)C2)C(=...</td>\n",
       "      <td>26600.0</td>\n",
       "      <td>inactive</td>\n",
       "    </tr>\n",
       "    <tr>\n",
       "      <th>4</th>\n",
       "      <td>CHEMBL436591</td>\n",
       "      <td>CCCC(=O)NC(CCc1ccccc1)C(C)(C)C(=O)OC(=O)C(C)(C...</td>\n",
       "      <td>1800.0</td>\n",
       "      <td>intermediate</td>\n",
       "    </tr>\n",
       "    <tr>\n",
       "      <th>...</th>\n",
       "      <td>...</td>\n",
       "      <td>...</td>\n",
       "      <td>...</td>\n",
       "      <td>...</td>\n",
       "    </tr>\n",
       "    <tr>\n",
       "      <th>585</th>\n",
       "      <td>CHEMBL4525964</td>\n",
       "      <td>CC[C@@H]1C[C@]1(NC(=O)[C@@H]1C[C@@H]2CN1C(=O)[...</td>\n",
       "      <td>10000.0</td>\n",
       "      <td>inactive</td>\n",
       "    </tr>\n",
       "    <tr>\n",
       "      <th>586</th>\n",
       "      <td>CHEMBL273264</td>\n",
       "      <td>N=C(N)Nc1ccc(C(=O)Oc2ccc3cc(C(=N)N)ccc3c2)cc1</td>\n",
       "      <td>17.0</td>\n",
       "      <td>active</td>\n",
       "    </tr>\n",
       "    <tr>\n",
       "      <th>587</th>\n",
       "      <td>CHEMBL332716</td>\n",
       "      <td>N=C(N)N1CCCC(C[C@H](NC(=O)[C@@H]2CC[C@H]3CN(C(...</td>\n",
       "      <td>4360.0</td>\n",
       "      <td>intermediate</td>\n",
       "    </tr>\n",
       "    <tr>\n",
       "      <th>588</th>\n",
       "      <td>CHEMBL4475942</td>\n",
       "      <td>CNC(=O)[C@@H]1C[C@H](N2CCc3c(ncnc3OCCC3CC3)C2)...</td>\n",
       "      <td>6.0</td>\n",
       "      <td>active</td>\n",
       "    </tr>\n",
       "    <tr>\n",
       "      <th>589</th>\n",
       "      <td>CHEMBL75828</td>\n",
       "      <td>CCOC(=O)C1(c2ccc3c(C)cc(Oc4ccc(C(=N)N)cc4)nc3c...</td>\n",
       "      <td>560.0</td>\n",
       "      <td>active</td>\n",
       "    </tr>\n",
       "  </tbody>\n",
       "</table>\n",
       "<p>590 rows × 4 columns</p>\n",
       "</div>"
      ],
      "text/plain": [
       "    Molecule ChEMBL ID                                             Smiles  \\\n",
       "0         CHEMBL134816  CC(C)(C(=O)OC(=O)C(C)(C)C(NC(=O)c1ccc(C#N)cc1)...   \n",
       "1         CHEMBL402843  C[C@H]1C(=O)N(CCCc2ccccc2)CC(=O)N1CC(=O)N[C@@H...   \n",
       "2          CHEMBL79245  N=C(N)N1CCCC(C[C@H](NC(=O)CN2C(=O)CN(Cc3ccccc3...   \n",
       "3          CHEMBL84127  CN1CC(=O)N(CC(=O)N[C@@H](CC2CCCN(C(=N)N)C2)C(=...   \n",
       "4         CHEMBL436591  CCCC(=O)NC(CCc1ccccc1)C(C)(C)C(=O)OC(=O)C(C)(C...   \n",
       "..                 ...                                                ...   \n",
       "585      CHEMBL4525964  CC[C@@H]1C[C@]1(NC(=O)[C@@H]1C[C@@H]2CN1C(=O)[...   \n",
       "586       CHEMBL273264      N=C(N)Nc1ccc(C(=O)Oc2ccc3cc(C(=N)N)ccc3c2)cc1   \n",
       "587       CHEMBL332716  N=C(N)N1CCCC(C[C@H](NC(=O)[C@@H]2CC[C@H]3CN(C(...   \n",
       "588      CHEMBL4475942  CNC(=O)[C@@H]1C[C@H](N2CCc3c(ncnc3OCCC3CC3)C2)...   \n",
       "589        CHEMBL75828  CCOC(=O)C1(c2ccc3c(C)cc(Oc4ccc(C(=N)N)cc4)nc3c...   \n",
       "\n",
       "     Standard Value bioactivity_class  \n",
       "0            1800.0      intermediate  \n",
       "1           24000.0          inactive  \n",
       "2           11100.0          inactive  \n",
       "3           26600.0          inactive  \n",
       "4            1800.0      intermediate  \n",
       "..              ...               ...  \n",
       "585         10000.0          inactive  \n",
       "586            17.0            active  \n",
       "587          4360.0      intermediate  \n",
       "588             6.0            active  \n",
       "589           560.0            active  \n",
       "\n",
       "[590 rows x 4 columns]"
      ]
     },
     "execution_count": 193,
     "metadata": {},
     "output_type": "execute_result"
    }
   ],
   "source": [
    "df"
   ]
  },
  {
   "cell_type": "code",
   "execution_count": 194,
   "metadata": {
    "executionInfo": {
     "elapsed": 585,
     "status": "ok",
     "timestamp": 1731820656839,
     "user": {
      "displayName": "Shreya Hegde",
      "userId": "14227999082931260667"
     },
     "user_tz": -330
    },
    "id": "uaXxXnoT0xN8"
   },
   "outputs": [],
   "source": [
    "#combining 2 dfs\n",
    "df_Combined = pd.concat([df,df_lipinski], axis=1)"
   ]
  },
  {
   "cell_type": "code",
   "execution_count": 195,
   "metadata": {
    "colab": {
     "base_uri": "https://localhost:8080/",
     "height": 444
    },
    "executionInfo": {
     "elapsed": 5,
     "status": "ok",
     "timestamp": 1731820658558,
     "user": {
      "displayName": "Shreya Hegde",
      "userId": "14227999082931260667"
     },
     "user_tz": -330
    },
    "id": "Vi-Q1Sza08Vn",
    "outputId": "0d8b1126-f128-4bd7-aacc-58aa467238db"
   },
   "outputs": [
    {
     "data": {
      "text/html": [
       "<div>\n",
       "<style scoped>\n",
       "    .dataframe tbody tr th:only-of-type {\n",
       "        vertical-align: middle;\n",
       "    }\n",
       "\n",
       "    .dataframe tbody tr th {\n",
       "        vertical-align: top;\n",
       "    }\n",
       "\n",
       "    .dataframe thead th {\n",
       "        text-align: right;\n",
       "    }\n",
       "</style>\n",
       "<table border=\"1\" class=\"dataframe\">\n",
       "  <thead>\n",
       "    <tr style=\"text-align: right;\">\n",
       "      <th></th>\n",
       "      <th>Molecule ChEMBL ID</th>\n",
       "      <th>Smiles</th>\n",
       "      <th>Standard Value</th>\n",
       "      <th>bioactivity_class</th>\n",
       "      <th>MW</th>\n",
       "      <th>LogP</th>\n",
       "      <th>NumHDonors</th>\n",
       "      <th>NumHAcceptors</th>\n",
       "    </tr>\n",
       "  </thead>\n",
       "  <tbody>\n",
       "    <tr>\n",
       "      <th>0</th>\n",
       "      <td>CHEMBL134816</td>\n",
       "      <td>CC(C)(C(=O)OC(=O)C(C)(C)C(NC(=O)c1ccc(C#N)cc1)...</td>\n",
       "      <td>1800.0</td>\n",
       "      <td>intermediate</td>\n",
       "      <td>626.713</td>\n",
       "      <td>6.19456</td>\n",
       "      <td>2</td>\n",
       "      <td>7</td>\n",
       "    </tr>\n",
       "    <tr>\n",
       "      <th>1</th>\n",
       "      <td>CHEMBL402843</td>\n",
       "      <td>C[C@H]1C(=O)N(CCCc2ccccc2)CC(=O)N1CC(=O)N[C@@H...</td>\n",
       "      <td>24000.0</td>\n",
       "      <td>inactive</td>\n",
       "      <td>567.716</td>\n",
       "      <td>1.49827</td>\n",
       "      <td>3</td>\n",
       "      <td>7</td>\n",
       "    </tr>\n",
       "    <tr>\n",
       "      <th>2</th>\n",
       "      <td>CHEMBL79245</td>\n",
       "      <td>N=C(N)N1CCCC(C[C@H](NC(=O)CN2C(=O)CN(Cc3ccccc3...</td>\n",
       "      <td>11100.0</td>\n",
       "      <td>inactive</td>\n",
       "      <td>665.820</td>\n",
       "      <td>3.44167</td>\n",
       "      <td>3</td>\n",
       "      <td>7</td>\n",
       "    </tr>\n",
       "    <tr>\n",
       "      <th>3</th>\n",
       "      <td>CHEMBL84127</td>\n",
       "      <td>CN1CC(=O)N(CC(=O)N[C@@H](CC2CCCN(C(=N)N)C2)C(=...</td>\n",
       "      <td>26600.0</td>\n",
       "      <td>inactive</td>\n",
       "      <td>589.722</td>\n",
       "      <td>1.87127</td>\n",
       "      <td>3</td>\n",
       "      <td>7</td>\n",
       "    </tr>\n",
       "    <tr>\n",
       "      <th>4</th>\n",
       "      <td>CHEMBL436591</td>\n",
       "      <td>CCCC(=O)NC(CCc1ccccc1)C(C)(C)C(=O)OC(=O)C(C)(C...</td>\n",
       "      <td>1800.0</td>\n",
       "      <td>intermediate</td>\n",
       "      <td>564.767</td>\n",
       "      <td>5.94400</td>\n",
       "      <td>2</td>\n",
       "      <td>5</td>\n",
       "    </tr>\n",
       "    <tr>\n",
       "      <th>...</th>\n",
       "      <td>...</td>\n",
       "      <td>...</td>\n",
       "      <td>...</td>\n",
       "      <td>...</td>\n",
       "      <td>...</td>\n",
       "      <td>...</td>\n",
       "      <td>...</td>\n",
       "      <td>...</td>\n",
       "    </tr>\n",
       "    <tr>\n",
       "      <th>585</th>\n",
       "      <td>CHEMBL4525964</td>\n",
       "      <td>CC[C@@H]1C[C@]1(NC(=O)[C@@H]1C[C@@H]2CN1C(=O)[...</td>\n",
       "      <td>10000.0</td>\n",
       "      <td>inactive</td>\n",
       "      <td>757.951</td>\n",
       "      <td>3.89510</td>\n",
       "      <td>3</td>\n",
       "      <td>9</td>\n",
       "    </tr>\n",
       "    <tr>\n",
       "      <th>586</th>\n",
       "      <td>CHEMBL273264</td>\n",
       "      <td>N=C(N)Nc1ccc(C(=O)Oc2ccc3cc(C(=N)N)ccc3c2)cc1</td>\n",
       "      <td>17.0</td>\n",
       "      <td>active</td>\n",
       "      <td>347.378</td>\n",
       "      <td>2.64844</td>\n",
       "      <td>5</td>\n",
       "      <td>4</td>\n",
       "    </tr>\n",
       "    <tr>\n",
       "      <th>587</th>\n",
       "      <td>CHEMBL332716</td>\n",
       "      <td>N=C(N)N1CCCC(C[C@H](NC(=O)[C@@H]2CC[C@H]3CN(C(...</td>\n",
       "      <td>4360.0</td>\n",
       "      <td>intermediate</td>\n",
       "      <td>579.727</td>\n",
       "      <td>1.64077</td>\n",
       "      <td>3</td>\n",
       "      <td>7</td>\n",
       "    </tr>\n",
       "    <tr>\n",
       "      <th>588</th>\n",
       "      <td>CHEMBL4475942</td>\n",
       "      <td>CNC(=O)[C@@H]1C[C@H](N2CCc3c(ncnc3OCCC3CC3)C2)...</td>\n",
       "      <td>6.0</td>\n",
       "      <td>active</td>\n",
       "      <td>508.623</td>\n",
       "      <td>1.51020</td>\n",
       "      <td>2</td>\n",
       "      <td>8</td>\n",
       "    </tr>\n",
       "    <tr>\n",
       "      <th>589</th>\n",
       "      <td>CHEMBL75828</td>\n",
       "      <td>CCOC(=O)C1(c2ccc3c(C)cc(Oc4ccc(C(=N)N)cc4)nc3c...</td>\n",
       "      <td>560.0</td>\n",
       "      <td>active</td>\n",
       "      <td>417.509</td>\n",
       "      <td>4.99449</td>\n",
       "      <td>2</td>\n",
       "      <td>5</td>\n",
       "    </tr>\n",
       "  </tbody>\n",
       "</table>\n",
       "<p>590 rows × 8 columns</p>\n",
       "</div>"
      ],
      "text/plain": [
       "    Molecule ChEMBL ID                                             Smiles  \\\n",
       "0         CHEMBL134816  CC(C)(C(=O)OC(=O)C(C)(C)C(NC(=O)c1ccc(C#N)cc1)...   \n",
       "1         CHEMBL402843  C[C@H]1C(=O)N(CCCc2ccccc2)CC(=O)N1CC(=O)N[C@@H...   \n",
       "2          CHEMBL79245  N=C(N)N1CCCC(C[C@H](NC(=O)CN2C(=O)CN(Cc3ccccc3...   \n",
       "3          CHEMBL84127  CN1CC(=O)N(CC(=O)N[C@@H](CC2CCCN(C(=N)N)C2)C(=...   \n",
       "4         CHEMBL436591  CCCC(=O)NC(CCc1ccccc1)C(C)(C)C(=O)OC(=O)C(C)(C...   \n",
       "..                 ...                                                ...   \n",
       "585      CHEMBL4525964  CC[C@@H]1C[C@]1(NC(=O)[C@@H]1C[C@@H]2CN1C(=O)[...   \n",
       "586       CHEMBL273264      N=C(N)Nc1ccc(C(=O)Oc2ccc3cc(C(=N)N)ccc3c2)cc1   \n",
       "587       CHEMBL332716  N=C(N)N1CCCC(C[C@H](NC(=O)[C@@H]2CC[C@H]3CN(C(...   \n",
       "588      CHEMBL4475942  CNC(=O)[C@@H]1C[C@H](N2CCc3c(ncnc3OCCC3CC3)C2)...   \n",
       "589        CHEMBL75828  CCOC(=O)C1(c2ccc3c(C)cc(Oc4ccc(C(=N)N)cc4)nc3c...   \n",
       "\n",
       "     Standard Value bioactivity_class       MW     LogP  NumHDonors  \\\n",
       "0            1800.0      intermediate  626.713  6.19456           2   \n",
       "1           24000.0          inactive  567.716  1.49827           3   \n",
       "2           11100.0          inactive  665.820  3.44167           3   \n",
       "3           26600.0          inactive  589.722  1.87127           3   \n",
       "4            1800.0      intermediate  564.767  5.94400           2   \n",
       "..              ...               ...      ...      ...         ...   \n",
       "585         10000.0          inactive  757.951  3.89510           3   \n",
       "586            17.0            active  347.378  2.64844           5   \n",
       "587          4360.0      intermediate  579.727  1.64077           3   \n",
       "588             6.0            active  508.623  1.51020           2   \n",
       "589           560.0            active  417.509  4.99449           2   \n",
       "\n",
       "     NumHAcceptors  \n",
       "0                7  \n",
       "1                7  \n",
       "2                7  \n",
       "3                7  \n",
       "4                5  \n",
       "..             ...  \n",
       "585              9  \n",
       "586              4  \n",
       "587              7  \n",
       "588              8  \n",
       "589              5  \n",
       "\n",
       "[590 rows x 8 columns]"
      ]
     },
     "execution_count": 195,
     "metadata": {},
     "output_type": "execute_result"
    }
   ],
   "source": [
    "df_Combined"
   ]
  },
  {
   "cell_type": "markdown",
   "metadata": {
    "id": "6rx4tWvv1PR6"
   },
   "source": [
    "#convert IC50 to pIC50\n",
    "to allow IC50 data to be more uniformly distributed,we will convert IC50 to the negative log scale which is essentially log10(1000)"
   ]
  },
  {
   "cell_type": "code",
   "execution_count": 196,
   "metadata": {
    "executionInfo": {
     "elapsed": 445,
     "status": "ok",
     "timestamp": 1731820705333,
     "user": {
      "displayName": "Shreya Hegde",
      "userId": "14227999082931260667"
     },
     "user_tz": -330
    },
    "id": "GhE364Qw2lHw"
   },
   "outputs": [],
   "source": [
    "import numpy as np\n",
    "\n",
    "def pIC50(input):\n",
    "    pIC50 = []\n",
    "\n",
    "    for i in input['standard_value_norm']:\n",
    "        molar = i*(10**-9) # Converts nM to M\n",
    "        pIC50.append(-np.log10(molar))\n",
    "\n",
    "    input['pIC50'] = pIC50\n",
    "    x = input.drop('standard_value_norm', 1)\n",
    "\n",
    "    return x"
   ]
  },
  {
   "cell_type": "code",
   "execution_count": 197,
   "metadata": {
    "colab": {
     "base_uri": "https://localhost:8080/",
     "height": 355
    },
    "executionInfo": {
     "elapsed": 474,
     "status": "ok",
     "timestamp": 1731820708374,
     "user": {
      "displayName": "Shreya Hegde",
      "userId": "14227999082931260667"
     },
     "user_tz": -330
    },
    "id": "pBdZlA_D3I8L",
    "outputId": "80e1caf5-d706-4cba-d88e-9316452f0306"
   },
   "outputs": [
    {
     "data": {
      "text/plain": [
       "count        590.000000\n",
       "mean       17883.520695\n",
       "std        69725.778391\n",
       "min            0.020000\n",
       "25%           27.250000\n",
       "50%         1055.000000\n",
       "75%        10000.000000\n",
       "max      1000000.000000\n",
       "Name: Standard Value, dtype: float64"
      ]
     },
     "execution_count": 197,
     "metadata": {},
     "output_type": "execute_result"
    }
   ],
   "source": [
    "df_Combined['Standard Value'].describe()"
   ]
  },
  {
   "cell_type": "code",
   "execution_count": 198,
   "metadata": {
    "colab": {
     "base_uri": "https://localhost:8080/"
    },
    "executionInfo": {
     "elapsed": 5,
     "status": "ok",
     "timestamp": 1731820712326,
     "user": {
      "displayName": "Shreya Hegde",
      "userId": "14227999082931260667"
     },
     "user_tz": -330
    },
    "id": "Qy5eNLHB3aWm",
    "outputId": "b638c2fb-120b-4291-9d7c-65f07afb974b"
   },
   "outputs": [
    {
     "data": {
      "text/plain": [
       "1.0"
      ]
     },
     "execution_count": 198,
     "metadata": {},
     "output_type": "execute_result"
    }
   ],
   "source": [
    "-np.log10((10**-9)*100000000)"
   ]
  },
  {
   "cell_type": "code",
   "execution_count": 199,
   "metadata": {
    "colab": {
     "base_uri": "https://localhost:8080/"
    },
    "executionInfo": {
     "elapsed": 420,
     "status": "ok",
     "timestamp": 1731820714701,
     "user": {
      "displayName": "Shreya Hegde",
      "userId": "14227999082931260667"
     },
     "user_tz": -330
    },
    "id": "UxAxwZWFvo3E",
    "outputId": "fb3e41f5-7776-4ac4-cd97-105dc874dbd9"
   },
   "outputs": [
    {
     "data": {
      "text/plain": [
       "-1.0"
      ]
     },
     "execution_count": 199,
     "metadata": {},
     "output_type": "execute_result"
    }
   ],
   "source": [
    "-np.log10((10**-9)*10000000000)"
   ]
  },
  {
   "cell_type": "code",
   "execution_count": 200,
   "metadata": {
    "executionInfo": {
     "elapsed": 4,
     "status": "ok",
     "timestamp": 1731820716288,
     "user": {
      "displayName": "Shreya Hegde",
      "userId": "14227999082931260667"
     },
     "user_tz": -330
    },
    "id": "3w7R2LgPPyMp"
   },
   "outputs": [],
   "source": [
    "def norm_value(input):\n",
    "    norm = []\n",
    "\n",
    "    for i in input['Standard Value']:\n",
    "        if i > 100000000:\n",
    "            i = 100000000\n",
    "        norm.append(i)\n",
    "    input['standard_value_norm'] = norm\n",
    "    x = input.drop('Standard Value', axis=1)\n",
    "    return x"
   ]
  },
  {
   "cell_type": "code",
   "execution_count": 201,
   "metadata": {
    "colab": {
     "base_uri": "https://localhost:8080/",
     "height": 444
    },
    "executionInfo": {
     "elapsed": 447,
     "status": "ok",
     "timestamp": 1731820719183,
     "user": {
      "displayName": "Shreya Hegde",
      "userId": "14227999082931260667"
     },
     "user_tz": -330
    },
    "id": "b6AVdk34wonu",
    "outputId": "bb728433-9779-48f4-a2a6-af74560b77a5"
   },
   "outputs": [
    {
     "data": {
      "text/html": [
       "<div>\n",
       "<style scoped>\n",
       "    .dataframe tbody tr th:only-of-type {\n",
       "        vertical-align: middle;\n",
       "    }\n",
       "\n",
       "    .dataframe tbody tr th {\n",
       "        vertical-align: top;\n",
       "    }\n",
       "\n",
       "    .dataframe thead th {\n",
       "        text-align: right;\n",
       "    }\n",
       "</style>\n",
       "<table border=\"1\" class=\"dataframe\">\n",
       "  <thead>\n",
       "    <tr style=\"text-align: right;\">\n",
       "      <th></th>\n",
       "      <th>Molecule ChEMBL ID</th>\n",
       "      <th>Smiles</th>\n",
       "      <th>bioactivity_class</th>\n",
       "      <th>MW</th>\n",
       "      <th>LogP</th>\n",
       "      <th>NumHDonors</th>\n",
       "      <th>NumHAcceptors</th>\n",
       "      <th>standard_value_norm</th>\n",
       "    </tr>\n",
       "  </thead>\n",
       "  <tbody>\n",
       "    <tr>\n",
       "      <th>0</th>\n",
       "      <td>CHEMBL134816</td>\n",
       "      <td>CC(C)(C(=O)OC(=O)C(C)(C)C(NC(=O)c1ccc(C#N)cc1)...</td>\n",
       "      <td>intermediate</td>\n",
       "      <td>626.713</td>\n",
       "      <td>6.19456</td>\n",
       "      <td>2</td>\n",
       "      <td>7</td>\n",
       "      <td>1800.0</td>\n",
       "    </tr>\n",
       "    <tr>\n",
       "      <th>1</th>\n",
       "      <td>CHEMBL402843</td>\n",
       "      <td>C[C@H]1C(=O)N(CCCc2ccccc2)CC(=O)N1CC(=O)N[C@@H...</td>\n",
       "      <td>inactive</td>\n",
       "      <td>567.716</td>\n",
       "      <td>1.49827</td>\n",
       "      <td>3</td>\n",
       "      <td>7</td>\n",
       "      <td>24000.0</td>\n",
       "    </tr>\n",
       "    <tr>\n",
       "      <th>2</th>\n",
       "      <td>CHEMBL79245</td>\n",
       "      <td>N=C(N)N1CCCC(C[C@H](NC(=O)CN2C(=O)CN(Cc3ccccc3...</td>\n",
       "      <td>inactive</td>\n",
       "      <td>665.820</td>\n",
       "      <td>3.44167</td>\n",
       "      <td>3</td>\n",
       "      <td>7</td>\n",
       "      <td>11100.0</td>\n",
       "    </tr>\n",
       "    <tr>\n",
       "      <th>3</th>\n",
       "      <td>CHEMBL84127</td>\n",
       "      <td>CN1CC(=O)N(CC(=O)N[C@@H](CC2CCCN(C(=N)N)C2)C(=...</td>\n",
       "      <td>inactive</td>\n",
       "      <td>589.722</td>\n",
       "      <td>1.87127</td>\n",
       "      <td>3</td>\n",
       "      <td>7</td>\n",
       "      <td>26600.0</td>\n",
       "    </tr>\n",
       "    <tr>\n",
       "      <th>4</th>\n",
       "      <td>CHEMBL436591</td>\n",
       "      <td>CCCC(=O)NC(CCc1ccccc1)C(C)(C)C(=O)OC(=O)C(C)(C...</td>\n",
       "      <td>intermediate</td>\n",
       "      <td>564.767</td>\n",
       "      <td>5.94400</td>\n",
       "      <td>2</td>\n",
       "      <td>5</td>\n",
       "      <td>1800.0</td>\n",
       "    </tr>\n",
       "    <tr>\n",
       "      <th>...</th>\n",
       "      <td>...</td>\n",
       "      <td>...</td>\n",
       "      <td>...</td>\n",
       "      <td>...</td>\n",
       "      <td>...</td>\n",
       "      <td>...</td>\n",
       "      <td>...</td>\n",
       "      <td>...</td>\n",
       "    </tr>\n",
       "    <tr>\n",
       "      <th>585</th>\n",
       "      <td>CHEMBL4525964</td>\n",
       "      <td>CC[C@@H]1C[C@]1(NC(=O)[C@@H]1C[C@@H]2CN1C(=O)[...</td>\n",
       "      <td>inactive</td>\n",
       "      <td>757.951</td>\n",
       "      <td>3.89510</td>\n",
       "      <td>3</td>\n",
       "      <td>9</td>\n",
       "      <td>10000.0</td>\n",
       "    </tr>\n",
       "    <tr>\n",
       "      <th>586</th>\n",
       "      <td>CHEMBL273264</td>\n",
       "      <td>N=C(N)Nc1ccc(C(=O)Oc2ccc3cc(C(=N)N)ccc3c2)cc1</td>\n",
       "      <td>active</td>\n",
       "      <td>347.378</td>\n",
       "      <td>2.64844</td>\n",
       "      <td>5</td>\n",
       "      <td>4</td>\n",
       "      <td>17.0</td>\n",
       "    </tr>\n",
       "    <tr>\n",
       "      <th>587</th>\n",
       "      <td>CHEMBL332716</td>\n",
       "      <td>N=C(N)N1CCCC(C[C@H](NC(=O)[C@@H]2CC[C@H]3CN(C(...</td>\n",
       "      <td>intermediate</td>\n",
       "      <td>579.727</td>\n",
       "      <td>1.64077</td>\n",
       "      <td>3</td>\n",
       "      <td>7</td>\n",
       "      <td>4360.0</td>\n",
       "    </tr>\n",
       "    <tr>\n",
       "      <th>588</th>\n",
       "      <td>CHEMBL4475942</td>\n",
       "      <td>CNC(=O)[C@@H]1C[C@H](N2CCc3c(ncnc3OCCC3CC3)C2)...</td>\n",
       "      <td>active</td>\n",
       "      <td>508.623</td>\n",
       "      <td>1.51020</td>\n",
       "      <td>2</td>\n",
       "      <td>8</td>\n",
       "      <td>6.0</td>\n",
       "    </tr>\n",
       "    <tr>\n",
       "      <th>589</th>\n",
       "      <td>CHEMBL75828</td>\n",
       "      <td>CCOC(=O)C1(c2ccc3c(C)cc(Oc4ccc(C(=N)N)cc4)nc3c...</td>\n",
       "      <td>active</td>\n",
       "      <td>417.509</td>\n",
       "      <td>4.99449</td>\n",
       "      <td>2</td>\n",
       "      <td>5</td>\n",
       "      <td>560.0</td>\n",
       "    </tr>\n",
       "  </tbody>\n",
       "</table>\n",
       "<p>590 rows × 8 columns</p>\n",
       "</div>"
      ],
      "text/plain": [
       "    Molecule ChEMBL ID                                             Smiles  \\\n",
       "0         CHEMBL134816  CC(C)(C(=O)OC(=O)C(C)(C)C(NC(=O)c1ccc(C#N)cc1)...   \n",
       "1         CHEMBL402843  C[C@H]1C(=O)N(CCCc2ccccc2)CC(=O)N1CC(=O)N[C@@H...   \n",
       "2          CHEMBL79245  N=C(N)N1CCCC(C[C@H](NC(=O)CN2C(=O)CN(Cc3ccccc3...   \n",
       "3          CHEMBL84127  CN1CC(=O)N(CC(=O)N[C@@H](CC2CCCN(C(=N)N)C2)C(=...   \n",
       "4         CHEMBL436591  CCCC(=O)NC(CCc1ccccc1)C(C)(C)C(=O)OC(=O)C(C)(C...   \n",
       "..                 ...                                                ...   \n",
       "585      CHEMBL4525964  CC[C@@H]1C[C@]1(NC(=O)[C@@H]1C[C@@H]2CN1C(=O)[...   \n",
       "586       CHEMBL273264      N=C(N)Nc1ccc(C(=O)Oc2ccc3cc(C(=N)N)ccc3c2)cc1   \n",
       "587       CHEMBL332716  N=C(N)N1CCCC(C[C@H](NC(=O)[C@@H]2CC[C@H]3CN(C(...   \n",
       "588      CHEMBL4475942  CNC(=O)[C@@H]1C[C@H](N2CCc3c(ncnc3OCCC3CC3)C2)...   \n",
       "589        CHEMBL75828  CCOC(=O)C1(c2ccc3c(C)cc(Oc4ccc(C(=N)N)cc4)nc3c...   \n",
       "\n",
       "    bioactivity_class       MW     LogP  NumHDonors  NumHAcceptors  \\\n",
       "0        intermediate  626.713  6.19456           2              7   \n",
       "1            inactive  567.716  1.49827           3              7   \n",
       "2            inactive  665.820  3.44167           3              7   \n",
       "3            inactive  589.722  1.87127           3              7   \n",
       "4        intermediate  564.767  5.94400           2              5   \n",
       "..                ...      ...      ...         ...            ...   \n",
       "585          inactive  757.951  3.89510           3              9   \n",
       "586            active  347.378  2.64844           5              4   \n",
       "587      intermediate  579.727  1.64077           3              7   \n",
       "588            active  508.623  1.51020           2              8   \n",
       "589            active  417.509  4.99449           2              5   \n",
       "\n",
       "     standard_value_norm  \n",
       "0                 1800.0  \n",
       "1                24000.0  \n",
       "2                11100.0  \n",
       "3                26600.0  \n",
       "4                 1800.0  \n",
       "..                   ...  \n",
       "585              10000.0  \n",
       "586                 17.0  \n",
       "587               4360.0  \n",
       "588                  6.0  \n",
       "589                560.0  \n",
       "\n",
       "[590 rows x 8 columns]"
      ]
     },
     "execution_count": 201,
     "metadata": {},
     "output_type": "execute_result"
    }
   ],
   "source": [
    "df_norm = norm_value(df_Combined)\n",
    "df_norm"
   ]
  },
  {
   "cell_type": "code",
   "execution_count": 202,
   "metadata": {
    "colab": {
     "base_uri": "https://localhost:8080/",
     "height": 355
    },
    "executionInfo": {
     "elapsed": 429,
     "status": "ok",
     "timestamp": 1731820728234,
     "user": {
      "displayName": "Shreya Hegde",
      "userId": "14227999082931260667"
     },
     "user_tz": -330
    },
    "id": "Lc4Pc41Xx-k-",
    "outputId": "0e4e7305-8602-4a86-ea9d-4081e0d4d065"
   },
   "outputs": [
    {
     "data": {
      "text/plain": [
       "count        590.000000\n",
       "mean       17883.520695\n",
       "std        69725.778391\n",
       "min            0.020000\n",
       "25%           27.250000\n",
       "50%         1055.000000\n",
       "75%        10000.000000\n",
       "max      1000000.000000\n",
       "Name: standard_value_norm, dtype: float64"
      ]
     },
     "execution_count": 202,
     "metadata": {},
     "output_type": "execute_result"
    }
   ],
   "source": [
    "df_norm.standard_value_norm.describe()"
   ]
  },
  {
   "cell_type": "code",
   "execution_count": 203,
   "metadata": {
    "executionInfo": {
     "elapsed": 434,
     "status": "ok",
     "timestamp": 1731820810854,
     "user": {
      "displayName": "Shreya Hegde",
      "userId": "14227999082931260667"
     },
     "user_tz": -330
    },
    "id": "kNLpr5MJLFQe"
   },
   "outputs": [],
   "source": [
    "def pIC50(input):\n",
    "    pIC50 = []\n",
    "\n",
    "    for i in input['standard_value_norm']:\n",
    "        pIC50_value = -np.log10(i * 1e-9)  # Convert IC50 to pIC50\n",
    "        pIC50.append(pIC50_value)\n",
    "\n",
    "    input['pIC50'] = pIC50\n",
    "    x = input.drop('standard_value_norm', axis=1)  # Use axis=1 for columns\n",
    "\n",
    "    return x"
   ]
  },
  {
   "cell_type": "code",
   "execution_count": 204,
   "metadata": {
    "executionInfo": {
     "elapsed": 452,
     "status": "ok",
     "timestamp": 1731820815059,
     "user": {
      "displayName": "Shreya Hegde",
      "userId": "14227999082931260667"
     },
     "user_tz": -330
    },
    "id": "ahODA7IryGn3"
   },
   "outputs": [],
   "source": [
    "df_final = pIC50(df_norm)\n",
    "df_final=df_final.dropna()\n"
   ]
  },
  {
   "cell_type": "code",
   "execution_count": 205,
   "metadata": {
    "colab": {
     "base_uri": "https://localhost:8080/",
     "height": 355
    },
    "executionInfo": {
     "elapsed": 669,
     "status": "ok",
     "timestamp": 1731762750326,
     "user": {
      "displayName": "Shreya Hegde",
      "userId": "14227999082931260667"
     },
     "user_tz": -330
    },
    "id": "nj8FG0-jLckF",
    "outputId": "e2e032cf-c45d-42e6-b655-23e776dd7c71"
   },
   "outputs": [
    {
     "data": {
      "text/plain": [
       "count    590.000000\n",
       "mean       6.336264\n",
       "std        1.633737\n",
       "min        3.000000\n",
       "25%        5.000000\n",
       "50%        5.977143\n",
       "75%        7.564653\n",
       "max       10.698970\n",
       "Name: pIC50, dtype: float64"
      ]
     },
     "execution_count": 205,
     "metadata": {},
     "output_type": "execute_result"
    }
   ],
   "source": [
    "df_final.pIC50.describe()"
   ]
  },
  {
   "cell_type": "code",
   "execution_count": 206,
   "metadata": {
    "colab": {
     "base_uri": "https://localhost:8080/"
    },
    "executionInfo": {
     "elapsed": 436,
     "status": "ok",
     "timestamp": 1731820825351,
     "user": {
      "displayName": "Shreya Hegde",
      "userId": "14227999082931260667"
     },
     "user_tz": -330
    },
    "id": "24AkbFX7M1J9",
    "outputId": "0b574c6f-f4cf-4096-ef57-f72f741225d5"
   },
   "outputs": [
    {
     "data": {
      "text/plain": [
       "115"
      ]
     },
     "execution_count": 206,
     "metadata": {},
     "output_type": "execute_result"
    }
   ],
   "source": [
    "# Count the number of rows with \"intermediate\" in the bioactivity_class column\n",
    "intermediate_count = df[df['bioactivity_class'] == 'intermediate'].shape[0]\n",
    "intermediate_count\n"
   ]
  },
  {
   "cell_type": "code",
   "execution_count": 207,
   "metadata": {
    "colab": {
     "base_uri": "https://localhost:8080/",
     "height": 444
    },
    "executionInfo": {
     "elapsed": 504,
     "status": "ok",
     "timestamp": 1731820828122,
     "user": {
      "displayName": "Shreya Hegde",
      "userId": "14227999082931260667"
     },
     "user_tz": -330
    },
    "id": "0hCIJICVLrX5",
    "outputId": "3a090ff7-883f-4f58-f0d8-43e2cf7b0633"
   },
   "outputs": [
    {
     "data": {
      "text/html": [
       "<div>\n",
       "<style scoped>\n",
       "    .dataframe tbody tr th:only-of-type {\n",
       "        vertical-align: middle;\n",
       "    }\n",
       "\n",
       "    .dataframe tbody tr th {\n",
       "        vertical-align: top;\n",
       "    }\n",
       "\n",
       "    .dataframe thead th {\n",
       "        text-align: right;\n",
       "    }\n",
       "</style>\n",
       "<table border=\"1\" class=\"dataframe\">\n",
       "  <thead>\n",
       "    <tr style=\"text-align: right;\">\n",
       "      <th></th>\n",
       "      <th>Molecule ChEMBL ID</th>\n",
       "      <th>Smiles</th>\n",
       "      <th>bioactivity_class</th>\n",
       "      <th>MW</th>\n",
       "      <th>LogP</th>\n",
       "      <th>NumHDonors</th>\n",
       "      <th>NumHAcceptors</th>\n",
       "      <th>pIC50</th>\n",
       "    </tr>\n",
       "  </thead>\n",
       "  <tbody>\n",
       "    <tr>\n",
       "      <th>1</th>\n",
       "      <td>CHEMBL402843</td>\n",
       "      <td>C[C@H]1C(=O)N(CCCc2ccccc2)CC(=O)N1CC(=O)N[C@@H...</td>\n",
       "      <td>inactive</td>\n",
       "      <td>567.716</td>\n",
       "      <td>1.49827</td>\n",
       "      <td>3</td>\n",
       "      <td>7</td>\n",
       "      <td>4.619789</td>\n",
       "    </tr>\n",
       "    <tr>\n",
       "      <th>2</th>\n",
       "      <td>CHEMBL79245</td>\n",
       "      <td>N=C(N)N1CCCC(C[C@H](NC(=O)CN2C(=O)CN(Cc3ccccc3...</td>\n",
       "      <td>inactive</td>\n",
       "      <td>665.820</td>\n",
       "      <td>3.44167</td>\n",
       "      <td>3</td>\n",
       "      <td>7</td>\n",
       "      <td>4.954677</td>\n",
       "    </tr>\n",
       "    <tr>\n",
       "      <th>3</th>\n",
       "      <td>CHEMBL84127</td>\n",
       "      <td>CN1CC(=O)N(CC(=O)N[C@@H](CC2CCCN(C(=N)N)C2)C(=...</td>\n",
       "      <td>inactive</td>\n",
       "      <td>589.722</td>\n",
       "      <td>1.87127</td>\n",
       "      <td>3</td>\n",
       "      <td>7</td>\n",
       "      <td>4.575118</td>\n",
       "    </tr>\n",
       "    <tr>\n",
       "      <th>5</th>\n",
       "      <td>CHEMBL110898</td>\n",
       "      <td>CC(C)(C)OC(=O)N[C@@H](C(=O)N1CCC[C@H]1C(=O)NC(...</td>\n",
       "      <td>active</td>\n",
       "      <td>538.649</td>\n",
       "      <td>2.13390</td>\n",
       "      <td>4</td>\n",
       "      <td>6</td>\n",
       "      <td>7.853872</td>\n",
       "    </tr>\n",
       "    <tr>\n",
       "      <th>6</th>\n",
       "      <td>CHEMBL320098</td>\n",
       "      <td>C[C@@H](C(=O)N1CCC[C@H]1C(=O)NC(C=O)CCCN=C(N)N...</td>\n",
       "      <td>active</td>\n",
       "      <td>387.484</td>\n",
       "      <td>0.51840</td>\n",
       "      <td>3</td>\n",
       "      <td>4</td>\n",
       "      <td>6.050610</td>\n",
       "    </tr>\n",
       "    <tr>\n",
       "      <th>...</th>\n",
       "      <td>...</td>\n",
       "      <td>...</td>\n",
       "      <td>...</td>\n",
       "      <td>...</td>\n",
       "      <td>...</td>\n",
       "      <td>...</td>\n",
       "      <td>...</td>\n",
       "      <td>...</td>\n",
       "    </tr>\n",
       "    <tr>\n",
       "      <th>584</th>\n",
       "      <td>CHEMBL231813</td>\n",
       "      <td>CCC[C@H](NC(=O)[C@@H]1[C@H]2CCC[C@H]2CN1C(=O)[...</td>\n",
       "      <td>inactive</td>\n",
       "      <td>679.863</td>\n",
       "      <td>2.44590</td>\n",
       "      <td>4</td>\n",
       "      <td>8</td>\n",
       "      <td>5.000000</td>\n",
       "    </tr>\n",
       "    <tr>\n",
       "      <th>585</th>\n",
       "      <td>CHEMBL4525964</td>\n",
       "      <td>CC[C@@H]1C[C@]1(NC(=O)[C@@H]1C[C@@H]2CN1C(=O)[...</td>\n",
       "      <td>inactive</td>\n",
       "      <td>757.951</td>\n",
       "      <td>3.89510</td>\n",
       "      <td>3</td>\n",
       "      <td>9</td>\n",
       "      <td>5.000000</td>\n",
       "    </tr>\n",
       "    <tr>\n",
       "      <th>586</th>\n",
       "      <td>CHEMBL273264</td>\n",
       "      <td>N=C(N)Nc1ccc(C(=O)Oc2ccc3cc(C(=N)N)ccc3c2)cc1</td>\n",
       "      <td>active</td>\n",
       "      <td>347.378</td>\n",
       "      <td>2.64844</td>\n",
       "      <td>5</td>\n",
       "      <td>4</td>\n",
       "      <td>7.769551</td>\n",
       "    </tr>\n",
       "    <tr>\n",
       "      <th>588</th>\n",
       "      <td>CHEMBL4475942</td>\n",
       "      <td>CNC(=O)[C@@H]1C[C@H](N2CCc3c(ncnc3OCCC3CC3)C2)...</td>\n",
       "      <td>active</td>\n",
       "      <td>508.623</td>\n",
       "      <td>1.51020</td>\n",
       "      <td>2</td>\n",
       "      <td>8</td>\n",
       "      <td>8.221849</td>\n",
       "    </tr>\n",
       "    <tr>\n",
       "      <th>589</th>\n",
       "      <td>CHEMBL75828</td>\n",
       "      <td>CCOC(=O)C1(c2ccc3c(C)cc(Oc4ccc(C(=N)N)cc4)nc3c...</td>\n",
       "      <td>active</td>\n",
       "      <td>417.509</td>\n",
       "      <td>4.99449</td>\n",
       "      <td>2</td>\n",
       "      <td>5</td>\n",
       "      <td>6.251812</td>\n",
       "    </tr>\n",
       "  </tbody>\n",
       "</table>\n",
       "<p>475 rows × 8 columns</p>\n",
       "</div>"
      ],
      "text/plain": [
       "    Molecule ChEMBL ID                                             Smiles  \\\n",
       "1         CHEMBL402843  C[C@H]1C(=O)N(CCCc2ccccc2)CC(=O)N1CC(=O)N[C@@H...   \n",
       "2          CHEMBL79245  N=C(N)N1CCCC(C[C@H](NC(=O)CN2C(=O)CN(Cc3ccccc3...   \n",
       "3          CHEMBL84127  CN1CC(=O)N(CC(=O)N[C@@H](CC2CCCN(C(=N)N)C2)C(=...   \n",
       "5         CHEMBL110898  CC(C)(C)OC(=O)N[C@@H](C(=O)N1CCC[C@H]1C(=O)NC(...   \n",
       "6         CHEMBL320098  C[C@@H](C(=O)N1CCC[C@H]1C(=O)NC(C=O)CCCN=C(N)N...   \n",
       "..                 ...                                                ...   \n",
       "584       CHEMBL231813  CCC[C@H](NC(=O)[C@@H]1[C@H]2CCC[C@H]2CN1C(=O)[...   \n",
       "585      CHEMBL4525964  CC[C@@H]1C[C@]1(NC(=O)[C@@H]1C[C@@H]2CN1C(=O)[...   \n",
       "586       CHEMBL273264      N=C(N)Nc1ccc(C(=O)Oc2ccc3cc(C(=N)N)ccc3c2)cc1   \n",
       "588      CHEMBL4475942  CNC(=O)[C@@H]1C[C@H](N2CCc3c(ncnc3OCCC3CC3)C2)...   \n",
       "589        CHEMBL75828  CCOC(=O)C1(c2ccc3c(C)cc(Oc4ccc(C(=N)N)cc4)nc3c...   \n",
       "\n",
       "    bioactivity_class       MW     LogP  NumHDonors  NumHAcceptors     pIC50  \n",
       "1            inactive  567.716  1.49827           3              7  4.619789  \n",
       "2            inactive  665.820  3.44167           3              7  4.954677  \n",
       "3            inactive  589.722  1.87127           3              7  4.575118  \n",
       "5              active  538.649  2.13390           4              6  7.853872  \n",
       "6              active  387.484  0.51840           3              4  6.050610  \n",
       "..                ...      ...      ...         ...            ...       ...  \n",
       "584          inactive  679.863  2.44590           4              8  5.000000  \n",
       "585          inactive  757.951  3.89510           3              9  5.000000  \n",
       "586            active  347.378  2.64844           5              4  7.769551  \n",
       "588            active  508.623  1.51020           2              8  8.221849  \n",
       "589            active  417.509  4.99449           2              5  6.251812  \n",
       "\n",
       "[475 rows x 8 columns]"
      ]
     },
     "execution_count": 207,
     "metadata": {},
     "output_type": "execute_result"
    }
   ],
   "source": [
    "#removing the intermediate bioactivity classes\n",
    "df_2class = df_final[df_final.bioactivity_class != 'intermediate']\n",
    "df_2class.to_csv('bioactivity _data_pIC50.csv')\n",
    "df_2class"
   ]
  },
  {
   "cell_type": "markdown",
   "metadata": {
    "id": "97qUCTSrNMeg"
   },
   "source": [
    "Exploratory data analysis, using Lipinski descriptors - Chemical space analysis"
   ]
  },
  {
   "cell_type": "code",
   "execution_count": 208,
   "metadata": {
    "executionInfo": {
     "elapsed": 2974,
     "status": "ok",
     "timestamp": 1731820844863,
     "user": {
      "displayName": "Shreya Hegde",
      "userId": "14227999082931260667"
     },
     "user_tz": -330
    },
    "id": "i9umj-uhNTXC"
   },
   "outputs": [],
   "source": [
    "import seaborn as sns\n",
    "sns.set(style='ticks')\n",
    "import matplotlib.pyplot as plt"
   ]
  },
  {
   "cell_type": "code",
   "execution_count": 209,
   "metadata": {
    "colab": {
     "base_uri": "https://localhost:8080/",
     "height": 535
    },
    "executionInfo": {
     "elapsed": 1833,
     "status": "ok",
     "timestamp": 1731820848548,
     "user": {
      "displayName": "Shreya Hegde",
      "userId": "14227999082931260667"
     },
     "user_tz": -330
    },
    "id": "4CqXxVMFNjS-",
    "outputId": "3625fac8-6a48-462e-c10b-e8150f182706"
   },
   "outputs": [
    {
     "data": {
      "image/png": "[encoded data removed]",
      "text/plain": [
       "<Figure size 550x550 with 1 Axes>"
      ]
     },
     "metadata": {},
     "output_type": "display_data"
    }
   ],
   "source": [
    "#frequency plot of the 2 bioactivity classes\n",
    "plt.figure(figsize=(5.5,5.5))\n",
    "\n",
    "sns.countplot(x = 'bioactivity_class',data=df_2class,edgecolor='black')\n",
    "\n",
    "plt.xlabel('Bioactivity class',fontsize=14,fontweight='bold')\n",
    "plt.ylabel('Frequency',fontsize=14,fontweight='bold')\n",
    "plt.savefig('plot_bioactivity_class.pdf')\n"
   ]
  },
  {
   "cell_type": "code",
   "execution_count": 210,
   "metadata": {
    "colab": {
     "base_uri": "https://localhost:8080/",
     "height": 533
    },
    "executionInfo": {
     "elapsed": 2618,
     "status": "ok",
     "timestamp": 1731820860372,
     "user": {
      "displayName": "Shreya Hegde",
      "userId": "14227999082931260667"
     },
     "user_tz": -330
    },
    "id": "GZ6sTa8uTyOP",
    "outputId": "3c245495-edc8-4a77-f39a-ea83ba403845"
   },
   "outputs": [
    {
     "data": {
      "image/png": "[encoded data removed]",
      "text/plain": [
       "<Figure size 550x550 with 1 Axes>"
      ]
     },
     "metadata": {},
     "output_type": "display_data"
    }
   ],
   "source": [
    "#scatterplot of MW v logP\n",
    "plt.figure(figsize=(5.5,5.5))\n",
    "\n",
    "sns.scatterplot(x='MW', y='LogP',data=df_2class,hue='bioactivity_class', size='pIC50',edgecolor='black', alpha=0.7)\n",
    "\n",
    "plt.xlabel('MW', fontsize=14,fontweight='bold')\n",
    "plt.ylabel('LogP',fontsize=14,fontweight='bold')\n",
    "plt.legend(bbox_to_anchor=(1.05,1),loc=2,borderaxespad=0)\n",
    "plt.savefig('plot_MW_vs_LogP.pdf')"
   ]
  },
  {
   "cell_type": "code",
   "execution_count": 211,
   "metadata": {
    "colab": {
     "base_uri": "https://localhost:8080/",
     "height": 533
    },
    "executionInfo": {
     "elapsed": 1017,
     "status": "ok",
     "timestamp": 1731820869659,
     "user": {
      "displayName": "Shreya Hegde",
      "userId": "14227999082931260667"
     },
     "user_tz": -330
    },
    "id": "W8nLELsoV8uz",
    "outputId": "3c579b69-f8d0-4a52-8c0c-b9b43fc40c2a"
   },
   "outputs": [
    {
     "data": {
      "image/png": "[encoded data removed]",
      "text/plain": [
       "<Figure size 550x550 with 1 Axes>"
      ]
     },
     "metadata": {},
     "output_type": "display_data"
    }
   ],
   "source": [
    "#Box plot for pIC50 value\n",
    "\n",
    "plt.figure(figsize=(5.5,5.5))\n",
    "\n",
    "sns.boxplot(x = 'bioactivity_class', y='pIC50', data=df_2class)\n",
    "plt.xlabel('Bioactivity class', fontsize = 14, fontweight = 'bold')\n",
    "plt.ylabel('pIC50 value', fontsize=14, fontweight='bold')\n",
    "\n",
    "plt.savefig('plot_pIC50.pdf')"
   ]
  },
  {
   "cell_type": "markdown",
   "metadata": {
    "id": "zKpFp_o7hKOw"
   },
   "source": [
    "Statistical analysis - Mann Whitney U test"
   ]
  },
  {
   "cell_type": "code",
   "execution_count": 212,
   "metadata": {
    "colab": {
     "base_uri": "https://localhost:8080/",
     "height": 101
    },
    "executionInfo": {
     "elapsed": 471,
     "status": "ok",
     "timestamp": 1731820873883,
     "user": {
      "displayName": "Shreya Hegde",
      "userId": "14227999082931260667"
     },
     "user_tz": -330
    },
    "id": "ZxFO-OHDdk6B",
    "outputId": "99cddc28-2316-40e2-a6e8-56d66394b77f"
   },
   "outputs": [
    {
     "data": {
      "text/html": [
       "<div>\n",
       "<style scoped>\n",
       "    .dataframe tbody tr th:only-of-type {\n",
       "        vertical-align: middle;\n",
       "    }\n",
       "\n",
       "    .dataframe tbody tr th {\n",
       "        vertical-align: top;\n",
       "    }\n",
       "\n",
       "    .dataframe thead th {\n",
       "        text-align: right;\n",
       "    }\n",
       "</style>\n",
       "<table border=\"1\" class=\"dataframe\">\n",
       "  <thead>\n",
       "    <tr style=\"text-align: right;\">\n",
       "      <th></th>\n",
       "      <th>Descriptor</th>\n",
       "      <th>Statistics</th>\n",
       "      <th>p</th>\n",
       "      <th>alpha</th>\n",
       "      <th>Interpretation</th>\n",
       "    </tr>\n",
       "  </thead>\n",
       "  <tbody>\n",
       "    <tr>\n",
       "      <th>0</th>\n",
       "      <td>pIC50</td>\n",
       "      <td>53214.0</td>\n",
       "      <td>3.401830e-75</td>\n",
       "      <td>0.05</td>\n",
       "      <td>Different distribution (reject H0)</td>\n",
       "    </tr>\n",
       "  </tbody>\n",
       "</table>\n",
       "</div>"
      ],
      "text/plain": [
       "  Descriptor  Statistics             p  alpha  \\\n",
       "0      pIC50     53214.0  3.401830e-75   0.05   \n",
       "\n",
       "                       Interpretation  \n",
       "0  Different distribution (reject H0)  "
      ]
     },
     "execution_count": 212,
     "metadata": {},
     "output_type": "execute_result"
    }
   ],
   "source": [
    "def mannwhitney(descriptor, verbose=False):\n",
    "  # https://machinelearningmastery.com/nonparametric-statistical-significance-tests-in-python/\n",
    "  from numpy.random import seed\n",
    "  from numpy.random import randn\n",
    "  from scipy.stats import mannwhitneyu\n",
    "\n",
    "# seed the random number generator\n",
    "  seed(1)\n",
    "\n",
    "# actives and inactives\n",
    "  selection = [descriptor, 'bioactivity_class']\n",
    "  df = df_2class[selection]\n",
    "  active = df[df['bioactivity_class'] == 'active']\n",
    "  active = active[descriptor]\n",
    "\n",
    "  selection = [descriptor, 'bioactivity_class']\n",
    "  df = df_2class[selection]\n",
    "  inactive = df[df['bioactivity_class'] == 'inactive']\n",
    "  inactive = inactive[descriptor]\n",
    "\n",
    "# compare samples\n",
    "  stat, p = mannwhitneyu(active, inactive)\n",
    "  #print('Statistics=%.3f, p=%.3f' % (stat, p))\n",
    "\n",
    "# interpret\n",
    "  alpha = 0.05\n",
    "  if p > alpha:\n",
    "    interpretation = 'Same distribution (fail to reject H0)'\n",
    "  else:\n",
    "    interpretation = 'Different distribution (reject H0)'\n",
    "\n",
    "  results = pd.DataFrame({'Descriptor':descriptor,\n",
    "                          'Statistics':stat,\n",
    "                          'p':p,\n",
    "                          'alpha':alpha,\n",
    "                          'Interpretation':interpretation}, index=[0])\n",
    "  filename = 'mannwhitneyu_' + descriptor + '.csv'\n",
    "  results.to_csv(filename)\n",
    "\n",
    "  return results\n",
    "\n",
    "\n",
    "mannwhitney('pIC50')"
   ]
  },
  {
   "cell_type": "code",
   "execution_count": 213,
   "metadata": {},
   "outputs": [
    {
     "name": "stdout",
     "output_type": "stream",
     "text": [
      "hello world\n",
      "MannwhitneyuResult(statistic=0.0, pvalue=0.1)\n"
     ]
    }
   ],
   "source": [
    "import numpy as np\n",
    "import scipy.stats as stats\n",
    "\n",
    "# Try using numpy.char and scipy's mannwhitneyu\n",
    "print(np.char.add('hello', ' world'))\n",
    "result = stats.mannwhitneyu([1, 2, 3], [4, 5, 6])\n",
    "print(result)\n"
   ]
  },
  {
   "cell_type": "code",
   "execution_count": 214,
   "metadata": {
    "colab": {
     "base_uri": "https://localhost:8080/",
     "height": 534
    },
    "executionInfo": {
     "elapsed": 964,
     "status": "ok",
     "timestamp": 1731820886542,
     "user": {
      "displayName": "Shreya Hegde",
      "userId": "14227999082931260667"
     },
     "user_tz": -330
    },
    "id": "OaoPUo7GxbaB",
    "outputId": "24d15dd1-df0b-4c87-fa3c-50c40943ed29"
   },
   "outputs": [
    {
     "data": {
      "image/png": "[encoded data removed]",
      "text/plain": [
       "<Figure size 550x550 with 1 Axes>"
      ]
     },
     "metadata": {},
     "output_type": "display_data"
    }
   ],
   "source": [
    "#for molecular weight\n",
    "plt.figure(figsize=(5.5, 5.5))\n",
    "\n",
    "sns.boxplot(x = 'bioactivity_class', y = 'MW', data= df_2class)\n",
    "\n",
    "plt.xlabel('bioactivity_class', fontsize=14, fontweight='bold')\n",
    "plt.ylabel('MW', fontsize=14, fontweight='bold')\n",
    "\n",
    "plt.savefig('plot_MW.pdf')"
   ]
  },
  {
   "cell_type": "code",
   "execution_count": 215,
   "metadata": {
    "colab": {
     "base_uri": "https://localhost:8080/",
     "height": 101
    },
    "executionInfo": {
     "elapsed": 450,
     "status": "ok",
     "timestamp": 1731820892174,
     "user": {
      "displayName": "Shreya Hegde",
      "userId": "14227999082931260667"
     },
     "user_tz": -330
    },
    "id": "sVxwCOxHyMJQ",
    "outputId": "5989059f-4fde-4444-9615-4d88fc9140d8"
   },
   "outputs": [
    {
     "data": {
      "text/html": [
       "<div>\n",
       "<style scoped>\n",
       "    .dataframe tbody tr th:only-of-type {\n",
       "        vertical-align: middle;\n",
       "    }\n",
       "\n",
       "    .dataframe tbody tr th {\n",
       "        vertical-align: top;\n",
       "    }\n",
       "\n",
       "    .dataframe thead th {\n",
       "        text-align: right;\n",
       "    }\n",
       "</style>\n",
       "<table border=\"1\" class=\"dataframe\">\n",
       "  <thead>\n",
       "    <tr style=\"text-align: right;\">\n",
       "      <th></th>\n",
       "      <th>Descriptor</th>\n",
       "      <th>Statistics</th>\n",
       "      <th>p</th>\n",
       "      <th>alpha</th>\n",
       "      <th>Interpretation</th>\n",
       "    </tr>\n",
       "  </thead>\n",
       "  <tbody>\n",
       "    <tr>\n",
       "      <th>0</th>\n",
       "      <td>MW</td>\n",
       "      <td>28834.5</td>\n",
       "      <td>0.125316</td>\n",
       "      <td>0.05</td>\n",
       "      <td>Same distribution (fail to reject H0)</td>\n",
       "    </tr>\n",
       "  </tbody>\n",
       "</table>\n",
       "</div>"
      ],
      "text/plain": [
       "  Descriptor  Statistics         p  alpha  \\\n",
       "0         MW     28834.5  0.125316   0.05   \n",
       "\n",
       "                          Interpretation  \n",
       "0  Same distribution (fail to reject H0)  "
      ]
     },
     "execution_count": 215,
     "metadata": {},
     "output_type": "execute_result"
    }
   ],
   "source": [
    "mannwhitney('MW')"
   ]
  },
  {
   "cell_type": "code",
   "execution_count": 216,
   "metadata": {
    "colab": {
     "base_uri": "https://localhost:8080/",
     "height": 534
    },
    "executionInfo": {
     "elapsed": 795,
     "status": "ok",
     "timestamp": 1731820895221,
     "user": {
      "displayName": "Shreya Hegde",
      "userId": "14227999082931260667"
     },
     "user_tz": -330
    },
    "id": "BIVIhR_dyUKD",
    "outputId": "8c32058d-3332-4387-c462-91728afb5745"
   },
   "outputs": [
    {
     "data": {
      "image/png": "[encoded data removed]",
      "text/plain": [
       "<Figure size 550x550 with 1 Axes>"
      ]
     },
     "metadata": {},
     "output_type": "display_data"
    }
   ],
   "source": [
    "#logP\n",
    "plt.figure(figsize=(5.5, 5.5))\n",
    "\n",
    "sns.boxplot(x = 'bioactivity_class', y = 'LogP', data = df_2class)\n",
    "\n",
    "plt.xlabel('bioactivity_class', fontsize=14, fontweight='bold')\n",
    "plt.ylabel('LogP', fontsize=14, fontweight='bold')\n",
    "\n",
    "plt.savefig('plot_LogP.pdf')"
   ]
  },
  {
   "cell_type": "code",
   "execution_count": 217,
   "metadata": {
    "colab": {
     "base_uri": "https://localhost:8080/",
     "height": 101
    },
    "executionInfo": {
     "elapsed": 456,
     "status": "ok",
     "timestamp": 1731820913277,
     "user": {
      "displayName": "Shreya Hegde",
      "userId": "14227999082931260667"
     },
     "user_tz": -330
    },
    "id": "dHArYqH3yfj-",
    "outputId": "f2b5f026-577f-483d-f1cf-5015df6d93d0"
   },
   "outputs": [
    {
     "data": {
      "text/html": [
       "<div>\n",
       "<style scoped>\n",
       "    .dataframe tbody tr th:only-of-type {\n",
       "        vertical-align: middle;\n",
       "    }\n",
       "\n",
       "    .dataframe tbody tr th {\n",
       "        vertical-align: top;\n",
       "    }\n",
       "\n",
       "    .dataframe thead th {\n",
       "        text-align: right;\n",
       "    }\n",
       "</style>\n",
       "<table border=\"1\" class=\"dataframe\">\n",
       "  <thead>\n",
       "    <tr style=\"text-align: right;\">\n",
       "      <th></th>\n",
       "      <th>Descriptor</th>\n",
       "      <th>Statistics</th>\n",
       "      <th>p</th>\n",
       "      <th>alpha</th>\n",
       "      <th>Interpretation</th>\n",
       "    </tr>\n",
       "  </thead>\n",
       "  <tbody>\n",
       "    <tr>\n",
       "      <th>0</th>\n",
       "      <td>LogP</td>\n",
       "      <td>11188.5</td>\n",
       "      <td>2.616720e-26</td>\n",
       "      <td>0.05</td>\n",
       "      <td>Different distribution (reject H0)</td>\n",
       "    </tr>\n",
       "  </tbody>\n",
       "</table>\n",
       "</div>"
      ],
      "text/plain": [
       "  Descriptor  Statistics             p  alpha  \\\n",
       "0       LogP     11188.5  2.616720e-26   0.05   \n",
       "\n",
       "                       Interpretation  \n",
       "0  Different distribution (reject H0)  "
      ]
     },
     "execution_count": 217,
     "metadata": {},
     "output_type": "execute_result"
    }
   ],
   "source": [
    "mannwhitney('LogP')"
   ]
  },
  {
   "cell_type": "code",
   "execution_count": 218,
   "metadata": {
    "colab": {
     "base_uri": "https://localhost:8080/",
     "height": 534
    },
    "executionInfo": {
     "elapsed": 1013,
     "status": "ok",
     "timestamp": 1731820916607,
     "user": {
      "displayName": "Shreya Hegde",
      "userId": "14227999082931260667"
     },
     "user_tz": -330
    },
    "id": "HoivXQRRymu0",
    "outputId": "911539d4-c3ef-4210-c03e-405e63420c4d"
   },
   "outputs": [
    {
     "data": {
      "image/png": "[encoded data removed]",
      "text/plain": [
       "<Figure size 550x550 with 1 Axes>"
      ]
     },
     "metadata": {},
     "output_type": "display_data"
    }
   ],
   "source": [
    "#NumHDonors\n",
    "plt.figure(figsize=(5.5, 5.5))\n",
    "\n",
    "sns.boxplot(x = 'bioactivity_class', y = 'NumHDonors', data = df_2class)\n",
    "\n",
    "plt.xlabel('bioactivity_class', fontsize=14, fontweight='bold')\n",
    "plt.ylabel('NumHDonors', fontsize=14, fontweight='bold')\n",
    "\n",
    "plt.savefig('plot_NumHDonors.pdf')"
   ]
  },
  {
   "cell_type": "code",
   "execution_count": 219,
   "metadata": {
    "colab": {
     "base_uri": "https://localhost:8080/",
     "height": 101
    },
    "executionInfo": {
     "elapsed": 439,
     "status": "ok",
     "timestamp": 1731820928392,
     "user": {
      "displayName": "Shreya Hegde",
      "userId": "14227999082931260667"
     },
     "user_tz": -330
    },
    "id": "QHJpdTRDyzm4",
    "outputId": "510c9744-37b6-49dc-a1e2-0c662777b52b"
   },
   "outputs": [
    {
     "data": {
      "text/html": [
       "<div>\n",
       "<style scoped>\n",
       "    .dataframe tbody tr th:only-of-type {\n",
       "        vertical-align: middle;\n",
       "    }\n",
       "\n",
       "    .dataframe tbody tr th {\n",
       "        vertical-align: top;\n",
       "    }\n",
       "\n",
       "    .dataframe thead th {\n",
       "        text-align: right;\n",
       "    }\n",
       "</style>\n",
       "<table border=\"1\" class=\"dataframe\">\n",
       "  <thead>\n",
       "    <tr style=\"text-align: right;\">\n",
       "      <th></th>\n",
       "      <th>Descriptor</th>\n",
       "      <th>Statistics</th>\n",
       "      <th>p</th>\n",
       "      <th>alpha</th>\n",
       "      <th>Interpretation</th>\n",
       "    </tr>\n",
       "  </thead>\n",
       "  <tbody>\n",
       "    <tr>\n",
       "      <th>0</th>\n",
       "      <td>NumHDonors</td>\n",
       "      <td>41551.0</td>\n",
       "      <td>1.498055e-25</td>\n",
       "      <td>0.05</td>\n",
       "      <td>Different distribution (reject H0)</td>\n",
       "    </tr>\n",
       "  </tbody>\n",
       "</table>\n",
       "</div>"
      ],
      "text/plain": [
       "   Descriptor  Statistics             p  alpha  \\\n",
       "0  NumHDonors     41551.0  1.498055e-25   0.05   \n",
       "\n",
       "                       Interpretation  \n",
       "0  Different distribution (reject H0)  "
      ]
     },
     "execution_count": 219,
     "metadata": {},
     "output_type": "execute_result"
    }
   ],
   "source": [
    "mannwhitney('NumHDonors')"
   ]
  },
  {
   "cell_type": "code",
   "execution_count": 220,
   "metadata": {
    "colab": {
     "base_uri": "https://localhost:8080/",
     "height": 534
    },
    "executionInfo": {
     "elapsed": 508,
     "status": "ok",
     "timestamp": 1731820933284,
     "user": {
      "displayName": "Shreya Hegde",
      "userId": "14227999082931260667"
     },
     "user_tz": -330
    },
    "id": "tTwEPixzzIhm",
    "outputId": "82342737-85de-4e24-ef0b-238f206162bf"
   },
   "outputs": [
    {
     "data": {
      "image/png": "[encoded data removed]",
      "text/plain": [
       "<Figure size 550x550 with 1 Axes>"
      ]
     },
     "metadata": {},
     "output_type": "display_data"
    }
   ],
   "source": [
    "#NumHAcceptors\n",
    "plt.figure(figsize=(5.5, 5.5))\n",
    "\n",
    "sns.boxplot(x = 'bioactivity_class', y = 'NumHAcceptors', data = df_2class)\n",
    "\n",
    "plt.xlabel('bioactivity_class', fontsize=14, fontweight='bold')\n",
    "plt.ylabel('NumHAcceptors', fontsize=14, fontweight='bold')\n",
    "\n",
    "plt.savefig('plot_NumHAcceptors.pdf')\n"
   ]
  },
  {
   "cell_type": "code",
   "execution_count": 221,
   "metadata": {
    "colab": {
     "base_uri": "https://localhost:8080/",
     "height": 101
    },
    "executionInfo": {
     "elapsed": 440,
     "status": "ok",
     "timestamp": 1731820937826,
     "user": {
      "displayName": "Shreya Hegde",
      "userId": "14227999082931260667"
     },
     "user_tz": -330
    },
    "id": "bD-CWipRzhcm",
    "outputId": "b0481ded-840c-42ed-f6b4-9a8ab042c56c"
   },
   "outputs": [
    {
     "data": {
      "text/html": [
       "<div>\n",
       "<style scoped>\n",
       "    .dataframe tbody tr th:only-of-type {\n",
       "        vertical-align: middle;\n",
       "    }\n",
       "\n",
       "    .dataframe tbody tr th {\n",
       "        vertical-align: top;\n",
       "    }\n",
       "\n",
       "    .dataframe thead th {\n",
       "        text-align: right;\n",
       "    }\n",
       "</style>\n",
       "<table border=\"1\" class=\"dataframe\">\n",
       "  <thead>\n",
       "    <tr style=\"text-align: right;\">\n",
       "      <th></th>\n",
       "      <th>Descriptor</th>\n",
       "      <th>Statistics</th>\n",
       "      <th>p</th>\n",
       "      <th>alpha</th>\n",
       "      <th>Interpretation</th>\n",
       "    </tr>\n",
       "  </thead>\n",
       "  <tbody>\n",
       "    <tr>\n",
       "      <th>0</th>\n",
       "      <td>NumHAcceptors</td>\n",
       "      <td>33181.0</td>\n",
       "      <td>0.000004</td>\n",
       "      <td>0.05</td>\n",
       "      <td>Different distribution (reject H0)</td>\n",
       "    </tr>\n",
       "  </tbody>\n",
       "</table>\n",
       "</div>"
      ],
      "text/plain": [
       "      Descriptor  Statistics         p  alpha  \\\n",
       "0  NumHAcceptors     33181.0  0.000004   0.05   \n",
       "\n",
       "                       Interpretation  \n",
       "0  Different distribution (reject H0)  "
      ]
     },
     "execution_count": 221,
     "metadata": {},
     "output_type": "execute_result"
    }
   ],
   "source": [
    "mannwhitney('NumHAcceptors')"
   ]
  },
  {
   "cell_type": "code",
   "execution_count": 222,
   "metadata": {
    "colab": {
     "base_uri": "https://localhost:8080/"
    },
    "executionInfo": {
     "elapsed": 1939,
     "status": "ok",
     "timestamp": 1731820945706,
     "user": {
      "displayName": "Shreya Hegde",
      "userId": "14227999082931260667"
     },
     "user_tz": -330
    },
    "id": "88cVBZqlzyT3",
    "outputId": "dde92217-e2de-4235-f680-4e65680c10c6"
   },
   "outputs": [
    {
     "name": "stdout",
     "output_type": "stream",
     "text": [
      "  adding: mannwhitneyu_NumHDonors.csv (deflated 9%)\n",
      "  adding: mannwhitneyu_NumHAcceptors.csv (deflated 10%)\n",
      "  adding: bioactivity_data.csv (deflated 88%)\n",
      "  adding: mannwhitneyu_LogP.csv (deflated 9%)\n",
      "  adding: bioactivity_preprocessed_data.csv (deflated 83%)\n",
      "  adding: plot_bioactivity_class.pdf (deflated 38%)\n",
      "  adding: mannwhitneyu_pIC50.csv (deflated 10%)\n",
      "  adding: plot_MW_vs_LogP.pdf (deflated 6%)\n",
      "  adding: bioactivity _data_pIC50.csv (deflated 76%)\n",
      "  adding: mannwhitneyu_MW.csv (deflated 9%)\n",
      "  adding: plot_LogP.pdf (deflated 39%)\n",
      "  adding: plot_pIC50.pdf (deflated 36%)\n",
      "  adding: plot_MW.pdf (deflated 39%)\n",
      "  adding: plot_NumHAcceptors.pdf (deflated 36%)\n",
      "  adding: plot_NumHDonors.pdf (deflated 38%)\n"
     ]
    }
   ],
   "source": [
    "! zip -r results.zip . -i *.csv *.pdf"
   ]
  },
  {
   "cell_type": "code",
   "execution_count": null,
   "metadata": {
    "id": "Q6YG5B_D9t2c"
   },
   "outputs": [],
   "source": []
  }
 ],
 "metadata": {
  "colab": {
   "authorship_tag": "ABX9TyOejzkI0U1LTO0XsGcyIpwq",
   "mount_file_id": "1NYSTKHR4nhv8A1ZXgwaShv31R8tUZppL",
   "provenance": []
  },
  "kernelspec": {
   "display_name": "Python 3",
   "name": "python3"
  },
  "language_info": {
   "codemirror_mode": {
    "name": "ipython",
    "version": 3
   },
   "file_extension": ".py",
   "mimetype": "text/x-python",
   "name": "python",
   "nbconvert_exporter": "python",
   "pygments_lexer": "ipython3",
   "version": "3.12.0"
  }
 },
 "nbformat": 4,
 "nbformat_minor": 0
}
