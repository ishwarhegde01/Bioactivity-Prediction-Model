{
 "cells": [
  {
   "cell_type": "code",
   "execution_count": 69,
   "metadata": {
    "colab": {
     "base_uri": "https://localhost:8080/"
    },
    "executionInfo": {
     "elapsed": 8173,
     "status": "ok",
     "timestamp": 1731823261940,
     "user": {
      "displayName": "Shreya Hegde",
      "userId": "14227999082931260667"
     },
     "user_tz": -330
    },
    "id": "msWASBLhszZ5",
    "outputId": "6ed8f579-daef-46cd-c703-54d2a96eb24c"
   },
   "outputs": [
    {
     "name": "stdout",
     "output_type": "stream",
     "text": [
      "Requirement already satisfied: lazypredict in d:\\ishwar\\dd_ishwar\\dd_env\\lib\\site-packages (0.2.13)\n",
      "Requirement already satisfied: click in d:\\ishwar\\dd_ishwar\\dd_env\\lib\\site-packages (from lazypredict) (8.1.7)\n",
      "Requirement already satisfied: scikit-learn in d:\\ishwar\\dd_ishwar\\dd_env\\lib\\site-packages (from lazypredict) (1.5.2)\n",
      "Requirement already satisfied: pandas in d:\\ishwar\\dd_ishwar\\dd_env\\lib\\site-packages (from lazypredict) (2.2.3)\n",
      "Requirement already satisfied: tqdm in d:\\ishwar\\dd_ishwar\\dd_env\\lib\\site-packages (from lazypredict) (4.67.0)\n",
      "Requirement already satisfied: joblib in d:\\ishwar\\dd_ishwar\\dd_env\\lib\\site-packages (from lazypredict) (1.4.2)\n",
      "Requirement already satisfied: lightgbm in d:\\ishwar\\dd_ishwar\\dd_env\\lib\\site-packages (from lazypredict) (4.5.0)\n",
      "Requirement already satisfied: xgboost in d:\\ishwar\\dd_ishwar\\dd_env\\lib\\site-packages (from lazypredict) (2.1.2)\n",
      "Requirement already satisfied: colorama in d:\\ishwar\\dd_ishwar\\dd_env\\lib\\site-packages (from click->lazypredict) (0.4.6)\n",
      "Requirement already satisfied: numpy>=1.17.0 in d:\\ishwar\\dd_ishwar\\dd_env\\lib\\site-packages (from lightgbm->lazypredict) (2.1.3)\n",
      "Requirement already satisfied: scipy in d:\\ishwar\\dd_ishwar\\dd_env\\lib\\site-packages (from lightgbm->lazypredict) (1.14.1)\n",
      "Requirement already satisfied: python-dateutil>=2.8.2 in d:\\ishwar\\dd_ishwar\\dd_env\\lib\\site-packages (from pandas->lazypredict) (2.9.0)\n",
      "Requirement already satisfied: pytz>=2020.1 in d:\\ishwar\\dd_ishwar\\dd_env\\lib\\site-packages (from pandas->lazypredict) (2024.2)\n",
      "Requirement already satisfied: tzdata>=2022.7 in d:\\ishwar\\dd_ishwar\\dd_env\\lib\\site-packages (from pandas->lazypredict) (2024.2)\n",
      "Requirement already satisfied: threadpoolctl>=3.1.0 in d:\\ishwar\\dd_ishwar\\dd_env\\lib\\site-packages (from scikit-learn->lazypredict) (3.5.0)\n",
      "Requirement already satisfied: six>=1.5 in d:\\ishwar\\dd_ishwar\\dd_env\\lib\\site-packages (from python-dateutil>=2.8.2->pandas->lazypredict) (1.16.0)\n"
     ]
    }
   ],
   "source": [
    "! pip install lazypredict"
   ]
  },
  {
   "cell_type": "code",
   "execution_count": 70,
   "metadata": {
    "colab": {
     "base_uri": "https://localhost:8080/"
    },
    "executionInfo": {
     "elapsed": 4217,
     "status": "ok",
     "timestamp": 1731823693332,
     "user": {
      "displayName": "Shreya Hegde",
      "userId": "14227999082931260667"
     },
     "user_tz": -330
    },
    "id": "gqQ4vwM0u5Be",
    "outputId": "9ebe9cd8-d134-4d21-813b-87d20b2f5711"
   },
   "outputs": [],
   "source": [
    "import pandas as pd\n",
    "import seaborn as sns\n",
    "from sklearn.model_selection import train_test_split\n",
    "import lazypredict\n",
    "from lazypredict.Supervised import LazyRegressor"
   ]
  },
  {
   "cell_type": "code",
   "execution_count": 71,
   "metadata": {
    "executionInfo": {
     "elapsed": 442,
     "status": "ok",
     "timestamp": 1731823829903,
     "user": {
      "displayName": "Shreya Hegde",
      "userId": "14227999082931260667"
     },
     "user_tz": -330
    },
    "id": "EBPlfiBUvYJ1"
   },
   "outputs": [
    {
     "data": {
      "text/plain": [
       "0     7.23\n",
       "1     8.38\n",
       "2     5.00\n",
       "3     4.35\n",
       "4     7.70\n",
       "      ... \n",
       "470   9.54\n",
       "471   9.42\n",
       "472   8.07\n",
       "473   4.51\n",
       "474   4.52\n",
       "Name: pIC50, Length: 475, dtype: float64"
      ]
     },
     "execution_count": 71,
     "metadata": {},
     "output_type": "execute_result"
    }
   ],
   "source": [
    "df = pd.read_csv('bioactivity_data_pIC50_pubchem_fp.csv')\n",
    "df.pIC50"
   ]
  },
  {
   "cell_type": "code",
   "execution_count": 140,
   "metadata": {
    "executionInfo": {
     "elapsed": 432,
     "status": "ok",
     "timestamp": 1731823850198,
     "user": {
      "displayName": "Shreya Hegde",
      "userId": "14227999082931260667"
     },
     "user_tz": -330
    },
    "id": "iZ4rR_wNvo0Q"
   },
   "outputs": [],
   "source": [
    "X = df.drop('pIC50', axis=1)\n",
    "Y = df.pIC50"
   ]
  },
  {
   "cell_type": "code",
   "execution_count": 73,
   "metadata": {
    "colab": {
     "base_uri": "https://localhost:8080/"
    },
    "executionInfo": {
     "elapsed": 440,
     "status": "ok",
     "timestamp": 1731823900442,
     "user": {
      "displayName": "Shreya Hegde",
      "userId": "14227999082931260667"
     },
     "user_tz": -330
    },
    "id": "oxcKy8WHvtp2",
    "outputId": "3b826095-0c64-435e-d65e-b4739e6029f8"
   },
   "outputs": [
    {
     "data": {
      "text/plain": [
       "(475, 881)"
      ]
     },
     "execution_count": 73,
     "metadata": {},
     "output_type": "execute_result"
    }
   ],
   "source": [
    "\n",
    "X.shape\n"
   ]
  },
  {
   "cell_type": "code",
   "execution_count": 78,
   "metadata": {},
   "outputs": [
    {
     "name": "stdout",
     "output_type": "stream",
     "text": [
      "Summary Statistics:\n",
      "Shape of data: (370, 162)\n",
      "\n",
      "Feature Statistics:\n",
      "              Min       Max      Mean       Std\n",
      "--------------------------------------------------\n",
      "Feature  0:     0.00     1.00     0.41     0.49\n",
      "Feature  1:     0.00     1.00     0.65     0.48\n",
      "Feature  2:     0.00     1.00     0.44     0.50\n",
      "Feature  3:     0.00     1.00     0.26     0.44\n",
      "Feature  4:     0.00     1.00     0.41     0.49\n",
      "Feature  5:     0.00     1.00     0.35     0.48\n",
      "Feature  6:     0.00     1.00     0.39     0.49\n",
      "Feature  7:     0.00     1.00     0.56     0.50\n",
      "Feature  8:     0.00     1.00     0.56     0.50\n",
      "Feature  9:     0.00     1.00     0.71     0.45\n",
      "Feature 10:     0.00     1.00     0.24     0.43\n",
      "Feature 11:     0.00     1.00     0.24     0.43\n",
      "Feature 12:     0.00     1.00     0.71     0.45\n",
      "Feature 13:     0.00     1.00     0.29     0.45\n",
      "Feature 14:     0.00     1.00     0.23     0.42\n",
      "Feature 15:     0.00     1.00     0.47     0.50\n",
      "Feature 16:     0.00     1.00     0.77     0.42\n",
      "Feature 17:     0.00     1.00     0.54     0.50\n",
      "Feature 18:     0.00     1.00     0.42     0.49\n",
      "Feature 19:     0.00     1.00     0.26     0.44\n",
      "Feature 20:     0.00     1.00     0.29     0.46\n",
      "Feature 21:     0.00     1.00     0.38     0.48\n",
      "Feature 22:     0.00     1.00     0.29     0.45\n",
      "Feature 23:     0.00     1.00     0.61     0.49\n",
      "Feature 24:     0.00     1.00     0.50     0.50\n",
      "Feature 25:     0.00     1.00     0.26     0.44\n",
      "Feature 26:     0.00     1.00     0.40     0.49\n",
      "Feature 27:     0.00     1.00     0.24     0.43\n",
      "Feature 28:     0.00     1.00     0.41     0.49\n",
      "Feature 29:     0.00     1.00     0.41     0.49\n",
      "Feature 30:     0.00     1.00     0.25     0.43\n",
      "Feature 31:     0.00     1.00     0.46     0.50\n",
      "Feature 32:     0.00     1.00     0.27     0.44\n",
      "Feature 33:     0.00     1.00     0.28     0.45\n",
      "Feature 34:     0.00     1.00     0.29     0.45\n",
      "Feature 35:     0.00     1.00     0.52     0.50\n",
      "Feature 36:     0.00     1.00     0.69     0.46\n",
      "Feature 37:     0.00     1.00     0.53     0.50\n",
      "Feature 38:     0.00     1.00     0.40     0.49\n",
      "Feature 39:     0.00     1.00     0.33     0.47\n",
      "Feature 40:     0.00     1.00     0.31     0.46\n",
      "Feature 41:     0.00     1.00     0.26     0.44\n",
      "Feature 42:     0.00     1.00     0.21     0.41\n",
      "Feature 43:     0.00     1.00     0.41     0.49\n",
      "Feature 44:     0.00     1.00     0.72     0.45\n",
      "Feature 45:     0.00     1.00     0.42     0.49\n",
      "Feature 46:     0.00     1.00     0.38     0.49\n",
      "Feature 47:     0.00     1.00     0.48     0.50\n",
      "Feature 48:     0.00     1.00     0.38     0.48\n",
      "Feature 49:     0.00     1.00     0.30     0.46\n",
      "Feature 50:     0.00     1.00     0.22     0.42\n",
      "Feature 51:     0.00     1.00     0.31     0.46\n",
      "Feature 52:     0.00     1.00     0.61     0.49\n",
      "Feature 53:     0.00     1.00     0.31     0.46\n",
      "Feature 54:     0.00     1.00     0.34     0.47\n",
      "Feature 55:     0.00     1.00     0.59     0.49\n",
      "Feature 56:     0.00     1.00     0.30     0.46\n",
      "Feature 57:     0.00     1.00     0.31     0.46\n",
      "Feature 58:     0.00     1.00     0.71     0.45\n",
      "Feature 59:     0.00     1.00     0.40     0.49\n",
      "Feature 60:     0.00     1.00     0.51     0.50\n",
      "Feature 61:     0.00     1.00     0.30     0.46\n",
      "Feature 62:     0.00     1.00     0.31     0.46\n",
      "Feature 63:     0.00     1.00     0.72     0.45\n",
      "Feature 64:     0.00     1.00     0.28     0.45\n",
      "Feature 65:     0.00     1.00     0.44     0.50\n",
      "Feature 66:     0.00     1.00     0.30     0.46\n",
      "Feature 67:     0.00     1.00     0.44     0.50\n",
      "Feature 68:     0.00     1.00     0.26     0.44\n",
      "Feature 69:     0.00     1.00     0.62     0.48\n",
      "Feature 70:     0.00     1.00     0.31     0.46\n",
      "Feature 71:     0.00     1.00     0.59     0.49\n",
      "Feature 72:     0.00     1.00     0.21     0.41\n",
      "Feature 73:     0.00     1.00     0.71     0.46\n",
      "Feature 74:     0.00     1.00     0.33     0.47\n",
      "Feature 75:     0.00     1.00     0.26     0.44\n",
      "Feature 76:     0.00     1.00     0.69     0.46\n",
      "Feature 77:     0.00     1.00     0.24     0.43\n",
      "Feature 78:     0.00     1.00     0.44     0.50\n",
      "Feature 79:     0.00     1.00     0.61     0.49\n",
      "Feature 80:     0.00     1.00     0.32     0.47\n",
      "Feature 81:     0.00     1.00     0.38     0.48\n",
      "Feature 82:     0.00     1.00     0.61     0.49\n",
      "Feature 83:     0.00     1.00     0.34     0.47\n",
      "Feature 84:     0.00     1.00     0.25     0.43\n",
      "Feature 85:     0.00     1.00     0.68     0.47\n",
      "Feature 86:     0.00     1.00     0.59     0.49\n",
      "Feature 87:     0.00     1.00     0.49     0.50\n",
      "Feature 88:     0.00     1.00     0.33     0.47\n",
      "Feature 89:     0.00     1.00     0.31     0.46\n",
      "Feature 90:     0.00     1.00     0.63     0.48\n",
      "Feature 91:     0.00     1.00     0.69     0.46\n",
      "Feature 92:     0.00     1.00     0.41     0.49\n",
      "Feature 93:     0.00     1.00     0.71     0.45\n",
      "Feature 94:     0.00     1.00     0.26     0.44\n",
      "Feature 95:     0.00     1.00     0.62     0.48\n",
      "Feature 96:     0.00     1.00     0.42     0.49\n",
      "Feature 97:     0.00     1.00     0.64     0.48\n",
      "Feature 98:     0.00     1.00     0.30     0.46\n",
      "Feature 99:     0.00     1.00     0.40     0.49\n",
      "Feature 100:     0.00     1.00     0.64     0.48\n",
      "Feature 101:     0.00     1.00     0.20     0.40\n",
      "Feature 102:     0.00     1.00     0.41     0.49\n",
      "Feature 103:     0.00     1.00     0.41     0.49\n",
      "Feature 104:     0.00     1.00     0.41     0.49\n",
      "Feature 105:     0.00     1.00     0.26     0.44\n",
      "Feature 106:     0.00     1.00     0.24     0.43\n",
      "Feature 107:     0.00     1.00     0.62     0.48\n",
      "Feature 108:     0.00     1.00     0.30     0.46\n",
      "Feature 109:     0.00     1.00     0.26     0.44\n",
      "Feature 110:     0.00     1.00     0.38     0.48\n",
      "Feature 111:     0.00     1.00     0.36     0.48\n",
      "Feature 112:     0.00     1.00     0.59     0.49\n",
      "Feature 113:     0.00     1.00     0.60     0.49\n",
      "Feature 114:     0.00     1.00     0.26     0.44\n",
      "Feature 115:     0.00     1.00     0.58     0.49\n",
      "Feature 116:     0.00     1.00     0.67     0.47\n",
      "Feature 117:     0.00     1.00     0.36     0.48\n",
      "Feature 118:     0.00     1.00     0.33     0.47\n",
      "Feature 119:     0.00     1.00     0.74     0.44\n",
      "Feature 120:     0.00     1.00     0.64     0.48\n",
      "Feature 121:     0.00     1.00     0.34     0.47\n",
      "Feature 122:     0.00     1.00     0.35     0.48\n",
      "Feature 123:     0.00     1.00     0.41     0.49\n",
      "Feature 124:     0.00     1.00     0.24     0.43\n",
      "Feature 125:     0.00     1.00     0.58     0.49\n",
      "Feature 126:     0.00     1.00     0.30     0.46\n",
      "Feature 127:     0.00     1.00     0.67     0.47\n",
      "Feature 128:     0.00     1.00     0.24     0.43\n",
      "Feature 129:     0.00     1.00     0.69     0.46\n",
      "Feature 130:     0.00     1.00     0.60     0.49\n",
      "Feature 131:     0.00     1.00     0.41     0.49\n",
      "Feature 132:     0.00     1.00     0.74     0.44\n",
      "Feature 133:     0.00     1.00     0.33     0.47\n",
      "Feature 134:     0.00     1.00     0.64     0.48\n",
      "Feature 135:     0.00     1.00     0.41     0.49\n",
      "Feature 136:     0.00     1.00     0.62     0.48\n",
      "Feature 137:     0.00     1.00     0.40     0.49\n",
      "Feature 138:     0.00     1.00     0.61     0.49\n",
      "Feature 139:     0.00     1.00     0.36     0.48\n",
      "Feature 140:     0.00     1.00     0.61     0.49\n",
      "Feature 141:     0.00     1.00     0.58     0.49\n",
      "Feature 142:     0.00     1.00     0.35     0.48\n",
      "Feature 143:     0.00     1.00     0.60     0.49\n",
      "Feature 144:     0.00     1.00     0.20     0.40\n",
      "Feature 145:     0.00     1.00     0.49     0.50\n",
      "Feature 146:     0.00     1.00     0.37     0.48\n",
      "Feature 147:     0.00     1.00     0.55     0.50\n",
      "Feature 148:     0.00     1.00     0.66     0.47\n",
      "Feature 149:     0.00     1.00     0.33     0.47\n",
      "Feature 150:     0.00     1.00     0.45     0.50\n",
      "Feature 151:     0.00     1.00     0.36     0.48\n",
      "Feature 152:     0.00     1.00     0.79     0.40\n",
      "Feature 153:     0.00     1.00     0.25     0.43\n",
      "Feature 154:     0.00     1.00     0.29     0.46\n",
      "Feature 155:     0.00     1.00     0.26     0.44\n",
      "Feature 156:     0.00     1.00     0.29     0.45\n",
      "Feature 157:     0.00     1.00     0.22     0.42\n",
      "Feature 158:     0.00     1.00     0.26     0.44\n",
      "Feature 159:     0.00     1.00     0.29     0.46\n",
      "Feature 160:     0.00     1.00     0.19     0.39\n",
      "Feature 161:     0.00     1.00     0.23     0.42\n",
      "\n",
      "Scale differences:\n",
      "Largest range: 1.00\n",
      "Smallest range: 1.00\n"
     ]
    }
   ],
   "source": [
    "import numpy as np\n",
    "\n",
    "# Get summary statistics all at once\n",
    "min_vals = X_train.min(axis=0)\n",
    "max_vals = X_train.max(axis=0)\n",
    "std_vals = X_train.std(axis=0)\n",
    "mean_vals = X_train.mean(axis=0)\n",
    "\n",
    "# Create a summary\n",
    "summary = np.vstack([min_vals, max_vals, mean_vals, std_vals])\n",
    "\n",
    "print(\"Summary Statistics:\")\n",
    "print(f\"Shape of data: {X_train.shape}\")\n",
    "print(\"\\nFeature Statistics:\")\n",
    "print(\"              Min       Max      Mean       Std\")\n",
    "print(\"-\" * 50)\n",
    "for i in range(X_train.shape[1]):\n",
    "    print(f\"Feature {i:2d}: {min_vals[i]:8.2f} {max_vals[i]:8.2f} {mean_vals[i]:8.2f} {std_vals[i]:8.2f}\")\n",
    "\n",
    "# Quick check if scaling might be needed\n",
    "scale_range = max_vals - min_vals\n",
    "print(\"\\nScale differences:\")\n",
    "print(f\"Largest range: {scale_range.max():.2f}\")\n",
    "print(f\"Smallest range: {scale_range.min():.2f}\")"
   ]
  },
  {
   "cell_type": "code",
   "execution_count": 81,
   "metadata": {},
   "outputs": [
    {
     "name": "stdout",
     "output_type": "stream",
     "text": [
      "Requirement already satisfied: statsmodels in d:\\ishwar\\dd_ishwar\\dd_env\\lib\\site-packages (0.14.4)\n",
      "Requirement already satisfied: numpy<3,>=1.22.3 in d:\\ishwar\\dd_ishwar\\dd_env\\lib\\site-packages (from statsmodels) (2.1.3)\n",
      "Requirement already satisfied: scipy!=1.9.2,>=1.8 in d:\\ishwar\\dd_ishwar\\dd_env\\lib\\site-packages (from statsmodels) (1.14.1)\n",
      "Requirement already satisfied: pandas!=2.1.0,>=1.4 in d:\\ishwar\\dd_ishwar\\dd_env\\lib\\site-packages (from statsmodels) (2.2.3)\n",
      "Requirement already satisfied: patsy>=0.5.6 in d:\\ishwar\\dd_ishwar\\dd_env\\lib\\site-packages (from statsmodels) (1.0.1)\n",
      "Requirement already satisfied: packaging>=21.3 in d:\\ishwar\\dd_ishwar\\dd_env\\lib\\site-packages (from statsmodels) (24.2)\n",
      "Requirement already satisfied: python-dateutil>=2.8.2 in d:\\ishwar\\dd_ishwar\\dd_env\\lib\\site-packages (from pandas!=2.1.0,>=1.4->statsmodels) (2.9.0)\n",
      "Requirement already satisfied: pytz>=2020.1 in d:\\ishwar\\dd_ishwar\\dd_env\\lib\\site-packages (from pandas!=2.1.0,>=1.4->statsmodels) (2024.2)\n",
      "Requirement already satisfied: tzdata>=2022.7 in d:\\ishwar\\dd_ishwar\\dd_env\\lib\\site-packages (from pandas!=2.1.0,>=1.4->statsmodels) (2024.2)\n",
      "Requirement already satisfied: six>=1.5 in d:\\ishwar\\dd_ishwar\\dd_env\\lib\\site-packages (from python-dateutil>=2.8.2->pandas!=2.1.0,>=1.4->statsmodels) (1.16.0)\n",
      "Note: you may need to restart the kernel to use updated packages.\n"
     ]
    }
   ],
   "source": [
    "pip install statsmodels\n"
   ]
  },
  {
   "cell_type": "code",
   "execution_count": 82,
   "metadata": {},
   "outputs": [],
   "source": [
    "import pickle"
   ]
  },
  {
   "cell_type": "code",
   "execution_count": null,
   "metadata": {},
   "outputs": [
    {
     "data": {
      "image/png": "[encoded data removed]",
      "text/plain": [
       "<Figure size 600x600 with 1 Axes>"
      ]
     },
     "metadata": {},
     "output_type": "display_data"
    },
    {
     "name": "stdout",
     "output_type": "stream",
     "text": [
      "\n",
      "Model Performance:\n",
      "-----------------\n",
      "Train R²: 0.632\n",
      "Train RMSE: 1.027\n",
      "Test R²: 0.509\n",
      "Test RMSE: 1.320\n",
      "\n",
      "Cross-validation R² scores: 0.420 ± 0.107\n",
      "\n",
      "Best Hyperparameters:\n",
      "{'regressor__max_depth': 8, 'regressor__max_features': 'log2', 'regressor__min_samples_split': 10, 'regressor__n_estimators': 100}\n",
      "\n",
      "Prediction Error Analysis:\n",
      "-------------------------\n",
      "Mean Error: 0.214\n",
      "Std Error: 1.310\n",
      "Max Abs Error: 3.822\n"
     ]
    },
    {
     "data": {
      "image/png": "[encoded data removed]",
      "text/plain": [
       "<Figure size 600x400 with 1 Axes>"
      ]
     },
     "metadata": {},
     "output_type": "display_data"
    },
    {
     "name": "stdout",
     "output_type": "stream",
     "text": [
      "Model saved as random_forest_model.pkl\n"
     ]
    }
   ],
   "source": [
    "import numpy as np\n",
    "import pandas as pd\n",
    "from sklearn.model_selection import train_test_split, GridSearchCV, cross_val_score\n",
    "from sklearn.preprocessing import RobustScaler\n",
    "from sklearn.ensemble import RandomForestRegressor\n",
    "from sklearn.feature_selection import SelectFromModel\n",
    "from sklearn.compose import ColumnTransformer\n",
    "from sklearn.pipeline import Pipeline\n",
    "from sklearn.metrics import r2_score, mean_squared_error\n",
    "import matplotlib.pyplot as plt\n",
    "import seaborn as sns\n",
    "import pickle\n",
    "\n",
    "def create_ml_pipeline(X, y, random_state=42):\n",
    "    \"\"\"\n",
    "    Creates and runs a complete machine learning pipeline with preprocessing, feature selection,\n",
    "    hyperparameter tuning, and performance evaluation.\n",
    "\n",
    "    Parameters:\n",
    "    X: DataFrame or array of features\n",
    "    y: Series or array of target values\n",
    "    random_state: int for reproducibility\n",
    "\n",
    "    Returns:\n",
    "    dict with model, predictions, and metrics\n",
    "    \"\"\"\n",
    "    # Ensure X is a DataFrame\n",
    "    if not isinstance(X, pd.DataFrame):\n",
    "        X = pd.DataFrame(X, columns=[f\"feature_{i}\" for i in range(X.shape[1])])\n",
    "\n",
    "    # Split data into training and testing\n",
    "    X_train, X_test, y_train, y_test = train_test_split(\n",
    "        X, y, test_size=0.2, random_state=random_state\n",
    "    )\n",
    "\n",
    "    # Define preprocessing\n",
    "    numeric_features = X.columns\n",
    "    preprocessor = ColumnTransformer(\n",
    "        transformers=[('num', RobustScaler(), numeric_features)],\n",
    "        remainder='passthrough'\n",
    "    )\n",
    "\n",
    "    # Define the full pipeline\n",
    "    pipeline = Pipeline([\n",
    "        ('preprocessor', preprocessor),\n",
    "        ('feature_selector', SelectFromModel(\n",
    "            RandomForestRegressor(n_estimators=100, random_state=random_state), threshold='mean'\n",
    "        )),\n",
    "        ('regressor', RandomForestRegressor(random_state=random_state))\n",
    "    ])\n",
    "\n",
    "    # Define parameter grid for hyperparameter tuning\n",
    "    param_grid = {\n",
    "        'regressor__n_estimators': [100, 200, 300],\n",
    "        'regressor__max_depth': [6, 8, 10],\n",
    "        'regressor__min_samples_split': [5, 10],\n",
    "        'regressor__max_features': ['sqrt', 'log2']\n",
    "    }\n",
    "\n",
    "    # Perform grid search\n",
    "    grid_search = GridSearchCV(\n",
    "        pipeline, param_grid, cv=5, scoring='r2', n_jobs=-1\n",
    "    )\n",
    "    grid_search.fit(X_train, y_train)\n",
    "\n",
    "    # Get the best pipeline and make predictions\n",
    "    best_pipeline = grid_search.best_estimator_\n",
    "    train_predictions = best_pipeline.predict(X_train)\n",
    "    test_predictions = best_pipeline.predict(X_test)\n",
    "\n",
    "    # Evaluate model performance\n",
    "    metrics = {\n",
    "        'train_r2': r2_score(y_train, train_predictions),\n",
    "        'train_rmse': np.sqrt(mean_squared_error(y_train, train_predictions)),\n",
    "        'test_r2': r2_score(y_test, test_predictions),\n",
    "        'test_rmse': np.sqrt(mean_squared_error(y_test, test_predictions)),\n",
    "        'cv_scores': cross_val_score(best_pipeline, X_train, y_train, cv=5, scoring='r2')\n",
    "    }\n",
    "\n",
    "    return {\n",
    "        'best_pipeline': best_pipeline,\n",
    "        'X_train': X_train,\n",
    "        'X_test': X_test,\n",
    "        'y_train': y_train,\n",
    "        'y_test': y_test,\n",
    "        'train_predictions': train_predictions,\n",
    "        'test_predictions': test_predictions,\n",
    "        'metrics': metrics,\n",
    "        'best_params': grid_search.best_params_\n",
    "    }\n",
    "\n",
    "def analyze_results(results):\n",
    "    \"\"\"Prints metrics and visualizes errors and predictions.\"\"\"\n",
    "    metrics = results['metrics']\n",
    "\n",
    "    print(\"\\nModel Performance:\")\n",
    "    print(\"-----------------\")\n",
    "    print(f\"Train R²: {metrics['train_r2']:.3f}\")\n",
    "    print(f\"Train RMSE: {metrics['train_rmse']:.3f}\")\n",
    "    print(f\"Test R²: {metrics['test_r2']:.3f}\")\n",
    "    print(f\"Test RMSE: {metrics['test_rmse']:.3f}\")\n",
    "    print(f\"\\nCross-validation R² scores: {metrics['cv_scores'].mean():.3f} ± {metrics['cv_scores'].std():.3f}\")\n",
    "    print(\"\\nBest Hyperparameters:\")\n",
    "    print(results['best_params'])\n",
    "\n",
    "    # Analyze prediction errors\n",
    "    test_errors = results['y_test'] - results['test_predictions']\n",
    "    print(\"\\nPrediction Error Analysis:\")\n",
    "    print(\"-------------------------\")\n",
    "    print(f\"Mean Error: {test_errors.mean():.3f}\")\n",
    "    print(f\"Std Error: {test_errors.std():.3f}\")\n",
    "    print(f\"Max Abs Error: {np.abs(test_errors).max():.3f}\")\n",
    "\n",
    "    # Visualize residuals\n",
    "    plt.figure(figsize=(6, 4))\n",
    "    sns.histplot(test_errors, kde=True, bins=20)\n",
    "    plt.title(\"Residual Distribution\")\n",
    "    plt.xlabel(\"Residuals\")\n",
    "    plt.ylabel(\"Frequency\")\n",
    "    plt.show()\n",
    "\n",
    "def run_pipeline(X, y):\n",
    "    \"\"\"Executes the entire pipeline and analyzes results.\"\"\"\n",
    "    results = create_ml_pipeline(X, y)\n",
    "    analyze_results(results)\n",
    "    return results\n",
    "\n",
    "\n",
    "results = run_pipeline(X, Y)\n",
    "\n",
    "# Save the model to a pickle file\n",
    "# Assuming 'results' contains the best pipeline\n",
    "if 'results' in locals():\n",
    "    with open('random_forest_model.pkl', 'wb') as file:\n",
    "        pickle.dump({\n",
    "            'model': results['best_pipeline'],\n",
    "            'feature_names': results['X_train'].columns\n",
    "        }, file)\n",
    "    print(\"Model saved as random_forest_model.pkl\")\n"
   ]
  },
  {
   "cell_type": "code",
   "execution_count": null,
   "metadata": {},
   "outputs": [],
   "source": [
    "with open(\"random_forest_model.pkl\", \"rb\") as f:\n",
    "    model = pickle.load(f)\n",
    "\n"
   ]
  }
 ],
 "metadata": {
  "colab": {
   "authorship_tag": "ABX9TyPjtVkuL1ZWS7x1dSIuDUfc",
   "mount_file_id": "1oT4Nrov_xsHx_lqovUg88hi1OlK-DnVW",
   "provenance": []
  },
  "kernelspec": {
   "display_name": "Python 3",
   "name": "python3"
  },
  "language_info": {
   "codemirror_mode": {
    "name": "ipython",
    "version": 3
   },
   "file_extension": ".py",
   "mimetype": "text/x-python",
   "name": "python",
   "nbconvert_exporter": "python",
   "pygments_lexer": "ipython3",
   "version": "3.12.7"
  }
 },
 "nbformat": 4,
 "nbformat_minor": 0
}
